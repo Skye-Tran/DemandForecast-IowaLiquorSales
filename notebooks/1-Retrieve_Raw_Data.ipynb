{
 "cells": [
  {
   "cell_type": "markdown",
   "id": "94f59951",
   "metadata": {},
   "source": [
    "# Create Training Data from BigQuery Public Dataset"
   ]
  },
  {
   "cell_type": "markdown",
   "id": "783728e4",
   "metadata": {},
   "source": [
    "The Iowa Liquor Sales data contains every wholesale purchase of liquor in the State of Iowa by retailers for sale to individuals since January 1, 2012. \n",
    "\n",
    "The State of Iowa controls the wholesale distribution of liquor intended for retail sale (off-premises consumption), which means this dataset offers a complete view of retail liquor consumption in the entire state. The dataset contains every wholesale order of liquor by all grocery stores, liquor stores, convenience stores, etc., with details about the store and location, the exact liquor brand and size, and the number of bottles ordered.\n",
    "\n",
    "Since the project aims to develop a ML model for short-term demand forecasting, analysing all historical data from 2012 will take too long and does not reflect recent trends in liquor consumption. Therefore, I would only extract 3 years of historical data from 2018 onwards to create a demand forecasting model. "
   ]
  },
  {
   "cell_type": "markdown",
   "id": "cece5640",
   "metadata": {},
   "source": [
    "## Data Sources"
   ]
  },
  {
   "cell_type": "markdown",
   "id": "0b39ba4c",
   "metadata": {},
   "source": [
    "Iowa Liquor Retail Sales: hosted publicly on [Google BigQuery](https://console.cloud.google.com/marketplace/product/iowa-department-of-commerce/iowa-liquor-sales?project=australiarain&folder=&organizationId=)"
   ]
  },
  {
   "cell_type": "markdown",
   "id": "1615ca1a",
   "metadata": {},
   "source": [
    "## Revision History"
   ]
  },
  {
   "cell_type": "markdown",
   "id": "bd8b0885",
   "metadata": {},
   "source": [
    "- 04-15-2021: Started the project"
   ]
  },
  {
   "cell_type": "code",
   "execution_count": 1,
   "id": "3973748c",
   "metadata": {},
   "outputs": [],
   "source": [
    "import pandas as pd\n",
    "from pathlib import Path\n",
    "from datetime import datetime"
   ]
  },
  {
   "cell_type": "markdown",
   "id": "f3d57f4e",
   "metadata": {},
   "source": [
    "## File Locations"
   ]
  },
  {
   "cell_type": "code",
   "execution_count": 2,
   "id": "27c78f7f",
   "metadata": {},
   "outputs": [],
   "source": [
    "today = datetime.today()\n",
    "raw_data = Path.cwd().parent / \"data\" / \"raw\" / \"all_sales.parquet\""
   ]
  },
  {
   "cell_type": "markdown",
   "id": "6d7a2a1c",
   "metadata": {},
   "source": [
    "## Create Training Dataset from BigQuery"
   ]
  },
  {
   "cell_type": "code",
   "execution_count": 3,
   "id": "82ae7ab1",
   "metadata": {},
   "outputs": [],
   "source": [
    "from google.cloud import bigquery\n",
    "client = bigquery.Client()"
   ]
  },
  {
   "cell_type": "code",
   "execution_count": null,
   "id": "8d117039",
   "metadata": {},
   "outputs": [],
   "source": [
    "# Run a query to retrieve the data from 2018 which is currently hosted  on BigQuery public dataset\n",
    "sql = \"\"\"\n",
    "SELECT\n",
    "  *\n",
    "FROM\n",
    "  `bigquery-public-data.iowa_liquor_sales.sales`\n",
    "WHERE\n",
    "  date >= \"2018-01-01\"\n",
    "ORDER BY\n",
    "  date;\n",
    "  \"\"\"\n",
    "liquor_df = client.query(sql).to_dataframe()\n",
    "liquor_df.head()"
   ]
  },
  {
   "cell_type": "code",
   "execution_count": null,
   "id": "df81ae78",
   "metadata": {},
   "outputs": [],
   "source": [
    "liquor_df.dtypes"
   ]
  },
  {
   "cell_type": "markdown",
   "id": "a378b4e4",
   "metadata": {},
   "source": [
    "## Data Manipulation"
   ]
  },
  {
   "cell_type": "code",
   "execution_count": null,
   "id": "189f2020",
   "metadata": {},
   "outputs": [],
   "source": [
    "# Convert date column from string to DateTime\n",
    "liquor_df['date'] = pd.to_datetime(liquor_df['date'])"
   ]
  },
  {
   "cell_type": "markdown",
   "id": "73e082b0",
   "metadata": {},
   "source": [
    "## Save Output Files into Raw Data Directory"
   ]
  },
  {
   "cell_type": "code",
   "execution_count": null,
   "id": "3a2fddbe",
   "metadata": {},
   "outputs": [],
   "source": [
    "# Save the dataframes into pickle (.pkl) file for faster read/ write and retaining information about data types\n",
    "liquor_df.to_parquet(raw_data)"
   ]
  }
 ],
 "metadata": {
  "environment": {
   "name": "common-cpu.m65",
   "type": "gcloud",
   "uri": "gcr.io/deeplearning-platform-release/base-cpu:m65"
  },
  "kernelspec": {
   "display_name": "Python 3",
   "language": "python",
   "name": "python3"
  },
  "language_info": {
   "codemirror_mode": {
    "name": "ipython",
    "version": 3
   },
   "file_extension": ".py",
   "mimetype": "text/x-python",
   "name": "python",
   "nbconvert_exporter": "python",
   "pygments_lexer": "ipython3",
   "version": "3.7.10"
  }
 },
 "nbformat": 4,
 "nbformat_minor": 5
}
