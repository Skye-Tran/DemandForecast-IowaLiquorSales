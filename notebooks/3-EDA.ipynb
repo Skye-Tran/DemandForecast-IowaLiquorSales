{
 "cells": [
  {
   "cell_type": "markdown",
   "id": "a2b5a254",
   "metadata": {},
   "source": [
    "# Exploratory Data Analysis, Feature Engineering and Feature Selection for Summarised Sales Data"
   ]
  },
  {
   "cell_type": "markdown",
   "id": "8b7573e1",
   "metadata": {},
   "source": [
    "## Executive Summary"
   ]
  },
  {
   "cell_type": "markdown",
   "id": "55ce393e",
   "metadata": {},
   "source": [
    "**What is this notebook for?**\n",
    "\n",
    "- To explore the data properties, data quality and prediction power of categorical and numerical features from the summarised sales data \n",
    "- To select relevant features and perform initial feature engineering, getting ready for experimenting with baseline ML models\n",
    "\n",
    "**What have we learned from this notebook?**\n",
    "\n",
    "1. Feature Selection\n",
    "    1. Retain: liquor_type (category_name), origin (category_name), county, item_description, day_of_week, pack_size, bottle_size, month (date), day_of_week (date), city\n",
    "    2. KIV for further feature engineering:\n",
    "        - city: enrich with population to see what could explain the vast difference in demand across cities. \n",
    "    3. Discard: year, date, pack, bottle_volume_ml, sales_dollar, volume_sold_liters\n",
    "2. Stationarity: Bottles_sold time series is non-stationary. Hence ARMA is not suitable for demand forecasting. \n",
    "\n",
    "**What are the next steps after this notebook?**\n",
    "1. Build a Machine Learning pipeline to automate data ingestion, data validation and data preprocessing\n",
    "2. Experiment with time series model: ARIMA, Linear Regression, Random Forest Regression, XGBoost and so on"
   ]
  },
  {
   "cell_type": "markdown",
   "id": "2e60d51a",
   "metadata": {},
   "source": [
    "## Data Sources"
   ]
  },
  {
   "cell_type": "markdown",
   "id": "5aac3abe",
   "metadata": {},
   "source": [
    "summarised_sales.pkl: Summarised from all_sales.pkl"
   ]
  },
  {
   "cell_type": "markdown",
   "id": "ef172231",
   "metadata": {},
   "source": [
    "## Revision History"
   ]
  },
  {
   "cell_type": "markdown",
   "id": "aa3afafb",
   "metadata": {},
   "source": [
    "- 04-17-2021: Started the notebook"
   ]
  },
  {
   "cell_type": "markdown",
   "id": "ea0e8784",
   "metadata": {},
   "source": [
    "## Required Python Libraries"
   ]
  },
  {
   "cell_type": "code",
   "execution_count": null,
   "id": "81bd5916",
   "metadata": {},
   "outputs": [],
   "source": [
    "from pathlib import Path\n",
    "from datetime import datetime\n",
    "import pandas as pd\n",
    "import numpy as np\n",
    "\n",
    "# Ignore all warnings\n",
    "import warnings\n",
    "warnings.filterwarnings(\"ignore\")\n",
    "\n",
    "# EDA\n",
    "\n",
    "# Chi-square test and t-test for EDA\n",
    "from scipy.stats import chi2_contingency\n",
    "from scipy import stats\n",
    "from scipy.stats import pearsonr\n",
    "\n",
    "# Logistic correlation for EDA\n",
    "import statsmodels.api as sm\n",
    "from statsmodels.formula.api import ols # ANOVA test \n",
    "from statsmodels.tsa.stattools import kpss # KPSS stationarity test\n",
    "from statsmodels.tsa.stattools import adfuller # ADF stationarity test\n",
    "from statsmodels.graphics.tsaplots import plot_pacf, plot_acf\n",
    "\n",
    "# Data Visualisation for EDA\n",
    "import matplotlib.pyplot as plt\n",
    "import seaborn as sns\n",
    "\n",
    "# Set up matplotlib so it uses Jupyter's graphical backend when plotting the charts\n",
    "%matplotlib inline \n",
    "\n",
    "# Adjust display options for pandas dataframes\n",
    "pd.set_option('display.max_columns', 500)\n",
    "pd.set_option('display.max_rows', 60)\n",
    "pd.set_option('float_format','{:.2f}'.format)"
   ]
  },
  {
   "cell_type": "markdown",
   "id": "a4d7b48f",
   "metadata": {},
   "source": [
    "## File Locations"
   ]
  },
  {
   "cell_type": "code",
   "execution_count": null,
   "id": "d40a5b64",
   "metadata": {},
   "outputs": [],
   "source": [
    "raw_data = Path.cwd().parent / \"data\" / \"raw\" / \"all_sales.parquet\"\n",
    "\n",
    "# Summarise transactional data into training dataset for demand forecasting\n",
    "summarised_data = Path.cwd().parent / \"data\" / \"processed\" / \"summary_sales.parquet\"\n",
    "\n",
    "# Master file for common dimensions\n",
    "item_data = Path.cwd().parent / \"data\" / \"interim\" / \"item_list.pkl\""
   ]
  },
  {
   "cell_type": "markdown",
   "id": "144ed0c9",
   "metadata": {},
   "source": [
    "## Load the data & basic exploration"
   ]
  },
  {
   "cell_type": "code",
   "execution_count": null,
   "id": "5523a56a",
   "metadata": {},
   "outputs": [],
   "source": [
    "liquor_df = pd.read_parquet(summarised_data)\n",
    "liquor_df.tail(10)"
   ]
  },
  {
   "cell_type": "code",
   "execution_count": null,
   "id": "e210b9a6",
   "metadata": {},
   "outputs": [],
   "source": [
    "liquor_df.info()"
   ]
  },
  {
   "cell_type": "code",
   "execution_count": null,
   "id": "bad648e9",
   "metadata": {},
   "outputs": [],
   "source": [
    "liquor_df.describe()"
   ]
  },
  {
   "cell_type": "code",
   "execution_count": null,
   "id": "fe93d068",
   "metadata": {},
   "outputs": [],
   "source": [
    "# Check for missing values\n",
    "liquor_df.isnull().sum()"
   ]
  },
  {
   "cell_type": "markdown",
   "id": "0f175725",
   "metadata": {},
   "source": [
    "Since majority of the univariate analysis have been covered in notebook 2-DataPrep, the below section will focus more on bivariate analysis and multi-variate analysis to discover underlying patterns about liquor demand in Iowa from 2018. \n",
    "\n",
    "As demand for liquor can be strongly dependent on seasonality as well as specific type of liquor, brands, location, pack size and packaging volume, I will focus on exploring the correlations between bottles_sold and other independent variables such as date, vendor, category, city, county, pack, bottle_volume_ml. "
   ]
  },
  {
   "cell_type": "code",
   "execution_count": null,
   "id": "74f13de8",
   "metadata": {},
   "outputs": [],
   "source": [
    "# Add month, year and day of week to analyse liquor demand over time\n",
    "liquor_df['month'] = pd.DatetimeIndex(liquor_df['date']).month\n",
    "liquor_df['year'] = pd.DatetimeIndex(liquor_df['date']).year\n",
    "liquor_df['day_of_week'] = pd.DatetimeIndex(liquor_df['date']).dayofweek"
   ]
  },
  {
   "cell_type": "markdown",
   "id": "3e0a588c",
   "metadata": {},
   "source": [
    "## Exploratory Questions"
   ]
  },
  {
   "cell_type": "markdown",
   "id": "6bc8bdd9",
   "metadata": {},
   "source": [
    "My primary interest is correlations between bottles_sold and other independent variables such as date, vendor, category, city, county, pack, bottle_volume_ml. As demand for liquor can be strongly dependent on seasonality as well as specific type of liquor, brands, location, pack size and packaging volume, these exploratory questions hold potential knowledge on the market and demand across a wide range of liquor products. \n",
    "\n",
    "Based on this initial direction, I formulated the following set of questions for further exploration. \n",
    "1. Overall product mix\n",
    "    - How many types/ categories of liquor products are currently sold in Iowa? \n",
    "    - Which types of liquor are the best-seller? \n",
    "    - Which brands are the most popular? \n",
    "    - Which pack size are available for liquor products? \n",
    "    - Which pack size are the most popular? \n",
    "    - Which packaging volume are the best-seller? \n",
    "2. Seasonality\n",
    "    - Does seasonality affect liquor consumption in Iowa? (Are there specific months/ period of the year where liquor purchase increased significantly?)\n",
    "3. Location\n",
    "    - How different or similar is the consumption of liquor across cities/ counties? \n",
    "4. Vendor\n",
    "5. Pack & packaging volume\n",
    "\n",
    "Since EDA is an open-ended and iterative process, I expect the above questions to change and increase over time. "
   ]
  },
  {
   "cell_type": "markdown",
   "id": "f78b57b4",
   "metadata": {},
   "source": [
    "## Recap: General Knowledge"
   ]
  },
  {
   "cell_type": "markdown",
   "id": "512d5fad",
   "metadata": {},
   "source": [
    "Below are some key takeaways from my background research about the definition of liquor and an overview about liquor market in Iowa"
   ]
  },
  {
   "cell_type": "markdown",
   "id": "84843623",
   "metadata": {},
   "source": [
    "#### Liquor"
   ]
  },
  {
   "cell_type": "markdown",
   "id": "f77bd3c7",
   "metadata": {},
   "source": [
    "1. The key difference between wine and liquor is their alcohol content. Wine has a lower alcohol content (typically less than 15%) whereas liquor has a high alcohol content (typically over 30%). \n",
    "2. Liquor goes through the process of distillation after fermentation. The process of distillation removes diluting agents like water from the mixture, increasing the alcohol content of the mixture. Hence it is also known as distilled beverage, hard alcohol and spirits.\n",
    "3. Among the many distilled spirits available in the market, there are just six base liquors: brandy, rum, vodka, gin, tequila and whiskey. These liquors form the foundation of most cocktails used in the bar. \n",
    "4. Liquers are sweetened liquor with various flavours, oils and extracts. The alcohol content of liqueurs tends to be lower than liquors because of the additives. Examples include cream liqueurs (like Baileys Irish Cream), orange liqueur (like Grand Marnier), Kahlua."
   ]
  },
  {
   "cell_type": "markdown",
   "id": "87bb30c5",
   "metadata": {},
   "source": [
    "#### History and recent updates about liquor market in Iowa"
   ]
  },
  {
   "cell_type": "markdown",
   "id": "88895baa",
   "metadata": {},
   "source": [
    "According to the [State Library of Iowa](https://www.statelibraryofiowa.org/services/collections/law-library/HistoricalFAQ/Q14), in 1934, Iowa state passed the \"Iowa Liquor Control Act\" which states that Iowa state assumed direct control over the wholesale and retail distribution of all alcoholic beverages except beer. This is followed by another reorganisation in 1986 whereby the Alcoholic Beverages Division's involvement with the liquor retail business came to an end. However, **the division still controls the wholesaling of liquor as well as the licensing and regulating of the state's alcoholic beverages industry until today.** \n",
    "\n",
    "[Des Moines Register](https://www.desmoinesregister.com/story/money/business/2020/12/11/iowa-broke-liquor-sales-records-fiscal-year-2020-black-velvet-whiskey-is-favorite-alcohol-laws/6512397002/) stated that **in the fiscal year 2020, Iowa made a record USD367.3 million in liquor sales — an increase of 8.2% from 2019,** according to the ABD report. Sales generated more than USD133 million in revenue for Iowa, which will go to the state's general fund. \n",
    "\n",
    "It's no surprise then that Black Velvet Whisky held onto its longtime No. 1 spot as the best selling liquor in Iowa, according to the annual report from the Iowa Alcoholic Beverages Division. Tito’s Handmade Vodka, Captain Morgan Original Spiced Rum, Hawkeye Vodka and Fireball Cinnamon Whiskey rounded out the top five this year. In local brands, Blue Ox Vodka held onto its top position, followed by Templeton Rye and Cedar Ridge Bourbon.\n",
    "\n",
    "Across the state, Polk County ranked first in the amount of liquor sold, consuming  1,268,688 fiscal year gallons, a 4% increase from 2019 with USD84.8 million in liquor sales. Linn County ranked second with USD32 million and a 6% increase, Scott County ranked third with USD26.6 million at 5%, and Johnson County came in fourth with USD21 million at 3%."
   ]
  },
  {
   "cell_type": "markdown",
   "id": "6b057378",
   "metadata": {},
   "source": [
    "## Categorical Features - Bivariate & Multivariate Analysis"
   ]
  },
  {
   "cell_type": "markdown",
   "id": "f5b24cd8",
   "metadata": {},
   "source": [
    "### category_name"
   ]
  },
  {
   "cell_type": "markdown",
   "id": "19511cdd",
   "metadata": {},
   "source": [
    "#### How does demand across various types of liquor look like across the years?"
   ]
  },
  {
   "cell_type": "code",
   "execution_count": null,
   "id": "a97ae8ab",
   "metadata": {},
   "outputs": [],
   "source": [
    "# Count number of unique values across all categorical data\n",
    "cat_feature = ['year','month','day_of_week', 'city', 'county', 'category_name', 'vendor_name', 'item_description']\n",
    "liquor_df[cat_feature].nunique()"
   ]
  },
  {
   "cell_type": "code",
   "execution_count": null,
   "id": "fb37b410",
   "metadata": {},
   "outputs": [],
   "source": [
    "# How many categories of liquor products have been sold in Iowa since 2018?\n",
    "liquor_df['category_name'].unique()"
   ]
  },
  {
   "cell_type": "markdown",
   "id": "828ad62c",
   "metadata": {},
   "source": [
    "Trying to visualise all 49 categories would be overwhelming and ineffective for analysis. Therefore, I will attempt to further consolidate the product categories into the 6 base liquors, one \"Liqueur\" category, one \"Specialty\" category, and one \"Others\" category.\n",
    "\n",
    "Note: \n",
    "- Bourbon and Scotch are also classified under Whiskey.\n",
    "- Schnapps, Triple Sec, Whiskey Liqueur are classified under Liqueur"
   ]
  },
  {
   "cell_type": "code",
   "execution_count": null,
   "id": "216d8a6a",
   "metadata": {},
   "outputs": [],
   "source": [
    "# Consolidate the category_name into liquor_type\n",
    "liquor_df['liquor_type'] = liquor_df['category_name'].replace({'Scotch Whiskies': 'Whiskey'\n",
    "                                                               , 'American Vodkas': 'Vodka'\n",
    "                                                               , 'Temporary & Specialty Packages': 'Specialty'\n",
    "                                                               , 'Straight Bourbon Whiskies': 'Whiskey'\n",
    "                                                               , 'Canadian Whiskies': 'Whiskey'\n",
    "                                                               , 'Whiskey Liqueur': 'Liqueur'\n",
    "                                                               , 'Irish Whiskies': 'Whiskey'\n",
    "                                                               , 'Blended Whiskies': 'Whiskey'\n",
    "                                                               , 'Bottled in Bond Bourbon': 'Whiskey'\n",
    "                                                               , 'Spiced Rum': 'Rum'\n",
    "                                                               , 'Straight Rye Whiskies': 'Whiskey'\n",
    "                                                               , 'Single Barrel Bourbon Whiskies': 'Whiskey'\n",
    "                                                               , 'Cream Liqueurs': 'Liqueur'\n",
    "                                                               , 'Tennessee Whiskies': 'Whiskey'\n",
    "                                                               , 'Iowa Distillery Whiskies': 'Whiskey'\n",
    "                                                               , 'Corn Whiskies': 'Whiskey'\n",
    "                                                               , 'American Distilled Spirits Specialty' : 'Specialty'\n",
    "                                                               , 'Imported Dry Gins': 'Gin'\n",
    "                                                               , 'American Dry Gins': 'Gin'\n",
    "                                                               , 'Flavored Gin': 'Gin'\n",
    "                                                               , 'Imported Flavored Vodka': 'Vodka'\n",
    "                                                               , 'Imported Vodkas': 'Vodka'\n",
    "                                                               , 'American Sloe Gins': 'Gin'\n",
    "                                                               , 'American Flavored Vodka': 'Vodka'\n",
    "                                                               , 'Single Malt Scotch': 'Whiskey'\n",
    "                                                               , 'Neutral Grain Spirits': 'Others'\n",
    "                                                               , 'Aged Dark Rum' : 'Rum'\n",
    "                                                               , 'Imported Distilled Spirits Specialty': 'Specialty'\n",
    "                                                               , 'Flavored Rum': 'Rum'\n",
    "                                                               , 'White Rum': 'Rum'\n",
    "                                                               , 'Gold Rum': 'Rum'\n",
    "                                                               , 'American Cordials & Liqueurs': 'Liqueur'\n",
    "                                                               , 'Imported Brandies': 'Brandy'\n",
    "                                                               , 'Imported Cordials & Liqueurs': 'Liqueur'\n",
    "                                                               , 'American Brandies': 'Brandy'\n",
    "                                                               , 'Cocktails / RTD': 'Others'\n",
    "                                                               , '100% Agave Tequila': 'Tequila'\n",
    "                                                               , 'Imported Schnapps': 'Liqueur'\n",
    "                                                               , 'American Schnapps': 'Liqueur'\n",
    "                                                               , 'Coffee Liqueurs': 'Liqueur'\n",
    "                                                               , 'Neutral Grain Spirits Flavored': 'Others'\n",
    "                                                               , 'Triple Sec': 'Liqueur'\n",
    "                                                               , 'Mixto Tequila': 'Tequila'\n",
    "                                                               , 'Mezcal': 'Others'\n",
    "                                                               , 'Special Order Items': 'Others'\n",
    "                                                               , 'Distilled Spirits Specialty': 'Specialty'\n",
    "                                                               , 'Imported Gins': 'Gin'\n",
    "                                                               , 'Delisted / Special Order Items': 'Specialty'\n",
    "                                                               , 'Imported Whiskies': 'Whiskey'})"
   ]
  },
  {
   "cell_type": "code",
   "execution_count": null,
   "id": "24268eb2",
   "metadata": {},
   "outputs": [],
   "source": [
    "# Define a function to plot two categorical variables against a numerical label\n",
    "def multivariate_barplot(df, cat_1, cat_2, num_label):\n",
    "    # Summarise the data into a pivot table\n",
    "    pv_table = pd.pivot_table(df, index = [cat_1, cat_2], values = num_label, aggfunc = np.sum)\n",
    "    # Convert pivot table into a long-form table for visualisation\n",
    "    data_lf = pv_table.reset_index()\n",
    "    # Create visualisation \n",
    "    plt.figure(figsize = (16, 8))\n",
    "    sns.set_style(\"whitegrid\")\n",
    "    sns.barplot(data = data_lf, x = cat_1, y = num_label, hue = cat_2, palette = \"mako\")\n",
    "    return None"
   ]
  },
  {
   "cell_type": "code",
   "execution_count": null,
   "id": "2e03d744",
   "metadata": {},
   "outputs": [],
   "source": [
    "multivariate_barplot(liquor_df, 'liquor_type', 'year', 'bottles_sold')"
   ]
  },
  {
   "cell_type": "markdown",
   "id": "28ea69c9",
   "metadata": {},
   "source": [
    "**In terms of number of bottles sold, vodka is the best-selling liquor type, followed by whiskey, rum, liqueur, gin, brandy, tequilar, specialty and others.** As such, we can clearly see that the demand for liquor differs significantly across liquor types. Therefore, liquor_type would be a relevant feature to predict liquor demand in Iowa. \n",
    "\n",
    "Over the years, the wholesale demand for liquor in Iowa has been trending upwards. Despite COVID-19 restrictions and the widespread closure of bars, restaurants and other entertainment venues, the demand for liquor did not drop. Instead, according to news and as evident from the bar chart, **the demand for liquor has increased significantly, indicating that people have switched to consume liquor at homes.** \n",
    "\n",
    "Note: At the point of analysis, which is mid-April 2021, we do not have the full 12-month consumption for 2021 yet. Therfore, it is normal for the 2021 data to be much lower than 3 previous years"
   ]
  },
  {
   "cell_type": "markdown",
   "id": "01dc4d12",
   "metadata": {},
   "source": [
    "#### Does the Iowa market prefer imported products or locally produced products?"
   ]
  },
  {
   "cell_type": "code",
   "execution_count": null,
   "id": "ca64c1cf",
   "metadata": {},
   "outputs": [],
   "source": [
    "# Identify product's origin based on category_name\n",
    "liquor_df['origin'] = liquor_df['category_name'].replace({'Scotch Whiskies': 'Imported'\n",
    "                                                               , 'American Vodkas': 'Local'\n",
    "                                                               , 'Temporary & Specialty Packages': 'Unknown'\n",
    "                                                               , 'Straight Bourbon Whiskies': 'Local'\n",
    "                                                               , 'Canadian Whiskies': 'Imported'\n",
    "                                                               , 'Whiskey Liqueur': 'Unknown'\n",
    "                                                               , 'Irish Whiskies': 'Imported'\n",
    "                                                               , 'Blended Whiskies': 'Unknown'\n",
    "                                                               , 'Bottled in Bond Bourbon': 'Local'\n",
    "                                                               , 'Spiced Rum': 'Unknown'\n",
    "                                                               , 'Straight Rye Whiskies': 'Unknown'\n",
    "                                                               , 'Single Barrel Bourbon Whiskies': 'Local'\n",
    "                                                               , 'Cream Liqueurs': 'Unknown'\n",
    "                                                               , 'Tennessee Whiskies': 'Local'\n",
    "                                                               , 'Iowa Distillery Whiskies': 'Local'\n",
    "                                                               , 'Corn Whiskies': 'Unknown'\n",
    "                                                               , 'American Distilled Spirits Specialty' : 'Local'\n",
    "                                                               , 'Imported Dry Gins': 'Imported'\n",
    "                                                               , 'American Dry Gins': 'Local'\n",
    "                                                               , 'Flavored Gin': 'Unknown'\n",
    "                                                               , 'Imported Flavored Vodka': 'Imported'\n",
    "                                                               , 'Imported Vodkas': 'Imported'\n",
    "                                                               , 'American Sloe Gins': 'Local'\n",
    "                                                               , 'American Flavored Vodka': 'Local'\n",
    "                                                               , 'Single Malt Scotch': 'Imported'\n",
    "                                                               , 'Neutral Grain Spirits': 'Unknown'\n",
    "                                                               , 'Aged Dark Rum' : 'Unknown'\n",
    "                                                               , 'Imported Distilled Spirits Specialty': 'Imported'\n",
    "                                                               , 'Flavored Rum': 'Unknown'\n",
    "                                                               , 'White Rum': 'Unknown'\n",
    "                                                               , 'Gold Rum': 'Unknown'\n",
    "                                                               , 'American Cordials & Liqueurs': 'Local'\n",
    "                                                               , 'Imported Brandies': 'Imported'\n",
    "                                                               , 'Imported Cordials & Liqueurs': 'Imported'\n",
    "                                                               , 'American Brandies': 'Local'\n",
    "                                                               , 'Cocktails / RTD': 'Unknown'\n",
    "                                                               , '100% Agave Tequila': 'Imported'\n",
    "                                                               , 'Imported Schnapps': 'Imported'\n",
    "                                                               , 'American Schnapps': 'Local'\n",
    "                                                               , 'Coffee Liqueurs': 'Unknown'\n",
    "                                                               , 'Neutral Grain Spirits Flavored': 'Unknown'\n",
    "                                                               , 'Triple Sec': 'Imported'\n",
    "                                                               , 'Mixto Tequila': 'Imported'\n",
    "                                                               , 'Mezcal': 'Imported'\n",
    "                                                               , 'Special Order Items': 'Unknown'\n",
    "                                                               , 'Distilled Spirits Specialty': 'Unknown'\n",
    "                                                               , 'Imported Gins': 'Imported'\n",
    "                                                               , 'Delisted / Special Order Items': 'Unknown'\n",
    "                                                               , 'Imported Whiskies': 'Imported'})"
   ]
  },
  {
   "cell_type": "code",
   "execution_count": null,
   "id": "9d4bf4f9",
   "metadata": {},
   "outputs": [],
   "source": [
    "# Plot a chart to visualise the dominance of local vs imported products across liquor types\n",
    "multivariate_barplot(liquor_df, 'liquor_type', 'origin', 'bottles_sold')"
   ]
  },
  {
   "cell_type": "markdown",
   "id": "0d903ad0",
   "metadata": {},
   "source": [
    "The above chart does not clearly tell whether imported or locally produced liquor is more popular because many has origin classified as \"Unknown\". As much as possible, I want to minimise the number of bottles sold being classified with Unknown origin since it might mislead my understanding about the liquor market. Therefore, I would attempt to further classify the origin for major brands related to Liqueur, Rum, Whiskey, Others and Specialty based on background research."
   ]
  },
  {
   "cell_type": "markdown",
   "id": "ea8d17c7",
   "metadata": {},
   "source": [
    "For LIQUEUR, below are the applicable classification rules.\n",
    "1. Imported Products: Baileys, Yukon Jack, Kahlua, Fireball, Ryan's Cream\n",
    "2. Local Products: Dr (stands for Dr. McGillicuddy's), Tippy Cow, Atomic Fusion, Blue Ox, Rebel Yell, Iowish, Iowa"
   ]
  },
  {
   "cell_type": "code",
   "execution_count": null,
   "id": "e2740a16",
   "metadata": {},
   "outputs": [],
   "source": [
    "# Classify imported or local LIQUEUR based on item_description\n",
    "\n",
    "# Mark imported products\n",
    "liquor_df['origin'] = np.where(liquor_df['item_description'].str.startswith(\"Baileys\"), 'Imported', liquor_df['origin'])\n",
    "liquor_df['origin'] = np.where(liquor_df['item_description'].str.startswith(\"Yukon Jack\"), 'Imported', liquor_df['origin'])\n",
    "liquor_df['origin'] = np.where(liquor_df['item_description'].str.startswith(\"Kahlua\"), 'Imported', liquor_df['origin'])\n",
    "liquor_df['origin'] = np.where(liquor_df['item_description'].str.startswith(\"Fireball\"), 'Imported', liquor_df['origin'])\n",
    "liquor_df['origin'] = np.where(liquor_df['item_description'].str.startswith(\"Ryan's Cream\"), 'Imported', liquor_df['origin'])\n",
    "\n",
    "# Mark local products\n",
    "liquor_df['origin'] = np.where(liquor_df['item_description'].str.startswith(\"Dr\"), 'Local', liquor_df['origin'])\n",
    "liquor_df['origin'] = np.where(liquor_df['item_description'].str.startswith(\"Tippy Cow\"), 'Local', liquor_df['origin'])\n",
    "liquor_df['origin'] = np.where(liquor_df['item_description'].str.startswith(\"Atomic Fusion\"), 'Local', liquor_df['origin'])\n",
    "liquor_df['origin'] = np.where(liquor_df['item_description'].str.startswith(\"Blue Ox\"), 'Local', liquor_df['origin'])\n",
    "liquor_df['origin'] = np.where(liquor_df['item_description'].str.startswith(\"Rebel Yell\"), 'Local', liquor_df['origin'])\n",
    "liquor_df['origin'] = np.where(liquor_df['item_description'].str.startswith(\"Iowish\"), 'Local', liquor_df['origin'])\n",
    "liquor_df['origin'] = np.where(liquor_df['item_description'].str.startswith(\"Iowa\"), 'Local', liquor_df['origin'])"
   ]
  },
  {
   "cell_type": "markdown",
   "id": "9504a675",
   "metadata": {},
   "source": [
    "For WHISKEY, below are the applicable classification rules.\n",
    "1. Imported Products: Five Star\n",
    "2. Local Products: Seagrams 7 Crown, Kessler, Templeton, Beam's 8, Hawkeye Blended"
   ]
  },
  {
   "cell_type": "code",
   "execution_count": null,
   "id": "37e8d25d",
   "metadata": {},
   "outputs": [],
   "source": [
    "# Classify imported or local WHISKEY based on item_description\n",
    "\n",
    "# Mark imported products\n",
    "liquor_df['origin'] = np.where(liquor_df['item_description'].str.startswith(\"Five Star\"), 'Imported', liquor_df['origin'])\n",
    "\n",
    "# Mark local products\n",
    "liquor_df['origin'] = np.where(liquor_df['item_description'].str.startswith(\"Seagrams 7 Crown\"), 'Local', liquor_df['origin'])\n",
    "liquor_df['origin'] = np.where(liquor_df['item_description'].str.startswith(\"Kessler\"), 'Local', liquor_df['origin'])\n",
    "liquor_df['origin'] = np.where(liquor_df['item_description'].str.startswith(\"Templeton\"), 'Local', liquor_df['origin'])\n",
    "liquor_df['origin'] = np.where(liquor_df['item_description'].str.startswith(\"Beam's 8\"), 'Local', liquor_df['origin'])\n",
    "liquor_df['origin'] = np.where(liquor_df['item_description'].str.startswith(\"Hawkeye Blended\"), 'Local', liquor_df['origin'])"
   ]
  },
  {
   "cell_type": "markdown",
   "id": "78b1a9d1",
   "metadata": {},
   "source": [
    "For RUM, below are the applicable classification rules.\n",
    "1. Imported Products: Captain Morgan, Bacardi, Malibu\n",
    "2. Local Products: Admiral Nelson"
   ]
  },
  {
   "cell_type": "code",
   "execution_count": null,
   "id": "df29bd0f",
   "metadata": {},
   "outputs": [],
   "source": [
    "# Classify imported or local RUM based on item_description\n",
    "\n",
    "# Mark imported products\n",
    "liquor_df['origin'] = np.where(liquor_df['item_description'].str.startswith(\"Captain Morgan\"), 'Imported', liquor_df['origin'])\n",
    "liquor_df['origin'] = np.where(liquor_df['item_description'].str.startswith(\"Bacardi\"), 'Imported', liquor_df['origin'])\n",
    "liquor_df['origin'] = np.where(liquor_df['item_description'].str.startswith(\"Captain Morgan\"), 'Imported', liquor_df['origin'])\n",
    "liquor_df['origin'] = np.where(liquor_df['item_description'].str.startswith(\"Malibu\"), 'Imported', liquor_df['origin'])\n",
    "\n",
    "\n",
    "# Mark local products\n",
    "liquor_df['origin'] = np.where(liquor_df['item_description'].str.startswith(\"Admiral Nelson\"), 'Local', liquor_df['origin'])"
   ]
  },
  {
   "cell_type": "markdown",
   "id": "dfe73ba2",
   "metadata": {},
   "source": [
    "For OTHERS liquor, below are the applicable classification rules.\n",
    "1. Imported Products: Jose Cuervo, 1800, Margaritaville\n",
    "2. Local Products: Chi-Chi's, Everclear Alcohol, Desert Island Long Island, Ole Smoky, Midnight Moon, Salvador's, Skinnygirl, Ice Box Mudslide, Tooters"
   ]
  },
  {
   "cell_type": "code",
   "execution_count": null,
   "id": "dab6c6a2",
   "metadata": {},
   "outputs": [],
   "source": [
    "# Classify imported or local OTHERS based on item_description\n",
    "\n",
    "# Mark imported products\n",
    "liquor_df['origin'] = np.where(liquor_df['item_description'].str.startswith(\"Jose Cuervo\"), 'Imported', liquor_df['origin'])\n",
    "liquor_df['origin'] = np.where(liquor_df['item_description'].str.startswith(\"1800\"), 'Imported', liquor_df['origin'])\n",
    "liquor_df['origin'] = np.where(liquor_df['item_description'].str.startswith(\"Margaritaville\"), 'Imported', liquor_df['origin'])\n",
    "\n",
    "# Mark local products\n",
    "liquor_df['origin'] = np.where(liquor_df['item_description'].str.startswith(\"Chi-Chi's\"), 'Local', liquor_df['origin'])\n",
    "liquor_df['origin'] = np.where(liquor_df['item_description'].str.startswith(\"Everclear Alcohol\"), 'Local', liquor_df['origin'])\n",
    "liquor_df['origin'] = np.where(liquor_df['item_description'].str.startswith(\"Desert Island Long Island\"), 'Local', liquor_df['origin'])\n",
    "liquor_df['origin'] = np.where(liquor_df['item_description'].str.startswith(\"Ole Smoky\"), 'Local', liquor_df['origin'])\n",
    "liquor_df['origin'] = np.where(liquor_df['item_description'].str.startswith(\"Midnight Moon\"), 'Local', liquor_df['origin'])\n",
    "liquor_df['origin'] = np.where(liquor_df['item_description'].str.startswith(\"Salvador's\"), 'Local', liquor_df['origin'])\n",
    "liquor_df['origin'] = np.where(liquor_df['item_description'].str.startswith(\"Skinnygirl\"), 'Local', liquor_df['origin'])\n",
    "liquor_df['origin'] = np.where(liquor_df['item_description'].str.startswith(\"Ice Box Mudslide\"), 'Local', liquor_df['origin'])\n",
    "liquor_df['origin'] = np.where(liquor_df['item_description'].str.startswith(\"Tooters\"), 'Local', liquor_df['origin'])\n"
   ]
  },
  {
   "cell_type": "markdown",
   "id": "26b06c89",
   "metadata": {},
   "source": [
    "For SPECIALTY liquor, below are the applicable classification rules.\n",
    "1. Imported Products: Crown Royal, Smirnoff Peppermint Twist, Ciroc\n",
    "2. Local Products: Smirnoff Red, White & Berry, Jack Daniels"
   ]
  },
  {
   "cell_type": "code",
   "execution_count": null,
   "id": "d51a89f4",
   "metadata": {},
   "outputs": [],
   "source": [
    "# Classify imported or local SPECIALTY based on item_description\n",
    "\n",
    "# Mark imported products\n",
    "liquor_df['origin'] = np.where(liquor_df['item_description'].str.startswith(\"Crown Royal\"), 'Imported', liquor_df['origin'])\n",
    "liquor_df['origin'] = np.where(liquor_df['item_description'].str.startswith(\"Smirnoff Peppermint Twist\"), 'Imported', liquor_df['origin'])\n",
    "liquor_df['origin'] = np.where(liquor_df['item_description'].str.startswith(\"Ciroc\"), 'Imported', liquor_df['origin'])\n",
    "\n",
    "# Mark local products\n",
    "liquor_df['origin'] = np.where(liquor_df['item_description'].str.startswith(\"Smirnoff Red, White & Berry\"), 'Local', liquor_df['origin'])\n",
    "liquor_df['origin'] = np.where(liquor_df['item_description'].str.startswith(\"Jack Daniels\"), 'Local', liquor_df['origin'])"
   ]
  },
  {
   "cell_type": "code",
   "execution_count": null,
   "id": "d53ab214",
   "metadata": {},
   "outputs": [],
   "source": [
    "# Plot a chart to visualise the dominance of local vs imported products across liquor types\n",
    "multivariate_barplot(liquor_df, 'liquor_type', 'origin', 'bottles_sold')"
   ]
  },
  {
   "cell_type": "code",
   "execution_count": null,
   "id": "c1fdf32f",
   "metadata": {},
   "outputs": [],
   "source": [
    "# Plot a chart to visualise the dominance of local vs imported products across liquor types\n",
    "multivariate_barplot(liquor_df, 'liquor_type', 'origin', 'sale_dollars')"
   ]
  },
  {
   "cell_type": "markdown",
   "id": "63b2a871",
   "metadata": {},
   "source": [
    "After identifying the origin of major products, I can conclude that **based on the number of bottles sold, imported varieties clearly dominated the market for liqueur, rum, tequila, whiskey and specialty (i.e. special-edition or seasonal products). On the contrary, US brandy, gin and vodka is consumed more than their imported varieties.** \n",
    "\n",
    "In terms of sales revenue, the same trend is also observed, except for brandy. **Although the number of imported bottles sold was lower than that of locally produced varieties, the total sales revenue from imported bottles were might higher. This indicates imported brandy is marketed at a much higher price tag than locally produced alternatives.** \n",
    "\n",
    "Due to the distinctly different demand between locally produced and imported liquor across liquor types, there could be strong correlation between origin and total number of bottles sold. Therefore I would retain origin as a relevant feature. "
   ]
  },
  {
   "cell_type": "markdown",
   "id": "fd36df49",
   "metadata": {},
   "source": [
    "#### Zooming into each liquor type, what categories are the most popular in Iowa? "
   ]
  },
  {
   "cell_type": "code",
   "execution_count": null,
   "id": "e9cb6e07",
   "metadata": {},
   "outputs": [],
   "source": [
    "# Isolate only records related to each liquor type\n",
    "brandy = liquor_df[liquor_df['liquor_type'] == \"Brandy\"]\n",
    "gin = liquor_df[liquor_df['liquor_type'] == \"Gin\"]\n",
    "tequila = liquor_df[liquor_df['liquor_type'] == \"Tequila\"]\n",
    "whiskey = liquor_df[liquor_df['liquor_type'] == \"Whiskey\"]\n",
    "vodka = liquor_df[liquor_df['liquor_type'] == \"Vodka\"]\n",
    "liqueur = liquor_df[liquor_df['liquor_type'] == \"Liqueur\"]\n",
    "rum = liquor_df[liquor_df['liquor_type'] == \"Rum\"]\n",
    "other = liquor_df[liquor_df['liquor_type'] == \"Others\"]\n",
    "specialty = liquor_df[liquor_df['liquor_type'] == \"Specialty\"]"
   ]
  },
  {
   "cell_type": "code",
   "execution_count": null,
   "id": "849c0d6c",
   "metadata": {},
   "outputs": [],
   "source": [
    "liquor_type_by_category = pd.pivot_table(liquor_df, index = ['liquor_type', 'category_name'], values = 'bottles_sold', aggfunc = np.sum)\n",
    "liquor_type_by_category = liquor_type_by_category.reset_index()\n",
    "liquor_type_by_category"
   ]
  },
  {
   "cell_type": "code",
   "execution_count": null,
   "id": "08cc813a",
   "metadata": {},
   "outputs": [],
   "source": [
    "# Plot a chart to visualise the most popular product category for BRANDY\n",
    "multivariate_barplot(brandy, 'category_name', 'origin', 'bottles_sold')"
   ]
  },
  {
   "cell_type": "code",
   "execution_count": null,
   "id": "936b9613",
   "metadata": {},
   "outputs": [],
   "source": [
    "# Plot a chart to visualise the most popular product category for GIN\n",
    "multivariate_barplot(gin, 'category_name', 'origin', 'bottles_sold')"
   ]
  },
  {
   "cell_type": "code",
   "execution_count": null,
   "id": "4eea137a",
   "metadata": {},
   "outputs": [],
   "source": [
    "# Plot a chart to visualise the most popular product category for LIQUEUR\n",
    "multivariate_barplot(liqueur, 'category_name', 'origin', 'bottles_sold')"
   ]
  },
  {
   "cell_type": "code",
   "execution_count": null,
   "id": "1dc372ea",
   "metadata": {},
   "outputs": [],
   "source": [
    "# Plot a chart to visualise the most popular product category for TEQUILA\n",
    "multivariate_barplot(tequila, 'category_name', 'origin', 'bottles_sold')"
   ]
  },
  {
   "cell_type": "code",
   "execution_count": null,
   "id": "810ae05d",
   "metadata": {},
   "outputs": [],
   "source": [
    "# Plot a chart to visualise the most popular product category for RUM\n",
    "multivariate_barplot(rum, 'category_name', 'origin', 'bottles_sold')"
   ]
  },
  {
   "cell_type": "code",
   "execution_count": null,
   "id": "72b857de",
   "metadata": {},
   "outputs": [],
   "source": [
    "# Plot a chart to visualise the most popular product category for OTHERS\n",
    "multivariate_barplot(other, 'category_name', 'origin', 'bottles_sold')"
   ]
  },
  {
   "cell_type": "code",
   "execution_count": null,
   "id": "928bdac3",
   "metadata": {},
   "outputs": [],
   "source": [
    "# Plot a chart to visualise the most popular product category for SPECIALTY\n",
    "multivariate_barplot(specialty, 'category_name', 'origin', 'bottles_sold')"
   ]
  },
  {
   "cell_type": "code",
   "execution_count": null,
   "id": "c2c62b8b",
   "metadata": {},
   "outputs": [],
   "source": [
    "# Plot a chart to visualise the most popular product category for VODKA\n",
    "multivariate_barplot(vodka, 'category_name', 'origin', 'bottles_sold')"
   ]
  },
  {
   "cell_type": "code",
   "execution_count": null,
   "id": "6adb0f94",
   "metadata": {},
   "outputs": [],
   "source": [
    "# Plot a chart to visualise the most popular product category for WHISKEY\n",
    "plt.figure(figsize = (16, 16))\n",
    "sns.set_style(\"whitegrid\")\n",
    "sns.barplot(data = whiskey, x = 'bottles_sold', y = 'category_name', hue = 'origin', palette = \"mako\", ci = None)"
   ]
  },
  {
   "cell_type": "markdown",
   "id": "48029813",
   "metadata": {},
   "source": [
    "Here are some key observations about the most popular varieties across each liquor type: \n",
    "1. Whiskey: Corn Whiskies(an American liquor made from a mash of at least 80 percent corn and distilled to a maximum strength of 160 proof (80% alcohol by volume)\n",
    "2. Vodka: American Vodkas\n",
    "3. Liquer: Whiskey Liqueur\n",
    "4. Rum: Spiced Rum\n",
    "5. Tequila: Mixto Tequila\n",
    "6. Brandy: American Brandies\n",
    "7. Gin: American Dry Gin\n",
    "8. Specialty: Temporary & Specialty Packages\n",
    "9. Others: Cocktails/ RTD (i.e. ready-to-drink packaged alcoholic beverages)"
   ]
  },
  {
   "cell_type": "markdown",
   "id": "3cb88d1a",
   "metadata": {},
   "source": [
    "#### How does liquor_type correlate to bottles_sold?"
   ]
  },
  {
   "cell_type": "markdown",
   "id": "3d181f9d",
   "metadata": {},
   "source": [
    "To assess the correlation between a categorical feature and a numerical label, I can use either t-test (if the categorical feature only has 2 groups) or ANOVA (if categorical feature has more than 2 groups). In this case, I will be using ANOVA test since pack_size has 5 different groups. \n",
    "\n",
    "ANOVA tests if there is a statistically significant difference in the mean somewhere in the model (testing if there was an overall effect), but it does not tell us where the difference is (if there is one). Since I am only interested in the correlation between 1 independent variable, I would perform one-way ANOVA test and here is my null and alternate hypothesis. \n",
    "\n",
    "- Null Hypothesis – There is no statistically significant difference in bottles_sold among the different pack_size values\n",
    "- Alternate Hypothesis – There is a statistically significant difference in bottles_sold among the different pack_size values\n",
    "\n",
    "The result of the ANOVA formula is called the F statistics. Choosing a level of significance of 0.05, if the p-value associated with the F is smaller than 0.05, then the null hypothesis is rejected. "
   ]
  },
  {
   "cell_type": "code",
   "execution_count": null,
   "id": "a841b439",
   "metadata": {},
   "outputs": [],
   "source": [
    "# Define a function to examine correlation over time between a categorical feature and a numerical label with boxplot and ANOVA\n",
    "def corr_boxplot_anova(df, cat_var, num_label, date_col):\n",
    "    # Summarise numerical label over time\n",
    "    num_label_summary = pd.pivot_table(df, index = [date_col, cat_var], values = num_label, aggfunc = np.sum).reset_index()\n",
    "    # Draw a boxplot\n",
    "    plt.figure(figsize = (16, 8))\n",
    "    sns.set_style(\"whitegrid\")\n",
    "    g = sns.boxplot(data = num_label_summary, x = cat_var, y = num_label, hue = cat_var, palette = 'mako')\n",
    "    # Conduct ANOVA model with ordinary least squares (ols) method in statsmodel\n",
    "    ols_parameter = num_label + '' + '~' + cat_var\n",
    "    model = ols(ols_parameter, data = num_label_summary).fit()\n",
    "    aov_table = sm.stats.anova_lm(model, typ = 2)\n",
    "    return aov_table"
   ]
  },
  {
   "cell_type": "code",
   "execution_count": null,
   "id": "d352f1bc",
   "metadata": {},
   "outputs": [],
   "source": [
    "# Assess predictive power of liquor_type\n",
    "corr_boxplot_anova(liquor_df, 'liquor_type', 'bottles_sold', 'date')"
   ]
  },
  {
   "cell_type": "markdown",
   "id": "b852f1fc",
   "metadata": {},
   "source": [
    "#### How does origin correlate to bottles_sold?"
   ]
  },
  {
   "cell_type": "code",
   "execution_count": null,
   "id": "ef27daf8",
   "metadata": {},
   "outputs": [],
   "source": [
    "# Assess predictive power of origin\n",
    "corr_boxplot_anova(liquor_df, 'origin', 'bottles_sold', 'date')"
   ]
  },
  {
   "cell_type": "markdown",
   "id": "9ecc6e27",
   "metadata": {},
   "source": [
    "Since category_name has high cardinality while origin and liquor_type have some predictive power over bottles_sold, I would discard category_name and retain origin as well as liquor_type for my demand forecast model. "
   ]
  },
  {
   "cell_type": "markdown",
   "id": "56f9e8ff",
   "metadata": {},
   "source": [
    "### date"
   ]
  },
  {
   "cell_type": "code",
   "execution_count": null,
   "id": "5e9cb9cd",
   "metadata": {},
   "outputs": [],
   "source": [
    "# Summary data by year\n",
    "data_2018 = liquor_df[liquor_df['year'] == 2018]\n",
    "data_2019 = liquor_df[liquor_df['year'] == 2019]\n",
    "data_2020 = liquor_df[liquor_df['year'] == 2020]\n",
    "data_2021 = liquor_df[liquor_df['year'] == 2021]"
   ]
  },
  {
   "cell_type": "markdown",
   "id": "3d044641",
   "metadata": {},
   "source": [
    "#### How does demand fluctuate accross years and months? "
   ]
  },
  {
   "cell_type": "code",
   "execution_count": null,
   "id": "ecba296a",
   "metadata": {},
   "outputs": [],
   "source": [
    "# Define a function to plot small multiple time series between one categorical variable against a numerical label across months and years\n",
    "def multivariate_relplot(df, cat_var, num_label, month_col, year_col):\n",
    "    # Summarise the data into a pivot table\n",
    "    pv_table = pd.pivot_table(df, index = [year_col, month_col, cat_var], values = num_label, aggfunc = np.sum)\n",
    "    # Convert pivot table into a long-form table for visualisation\n",
    "    data_lf = pv_table.reset_index()\n",
    "    # Plot each year's time series in its own facet \n",
    "    plt.figure(figsize = (16, 8))\n",
    "    sns.set_style(\"whitegrid\")\n",
    "    g = sns.relplot(data = data_lf, x = month_col, y = num_label, col = year_col, hue = cat_var, kind = \"line\", palette = \"dark\", col_wrap = 2)\n",
    "    return None"
   ]
  },
  {
   "cell_type": "code",
   "execution_count": null,
   "id": "8729a8c1",
   "metadata": {},
   "outputs": [],
   "source": [
    "# Plot the number of bottles sold by origin across months and years\n",
    "multivariate_relplot(liquor_df, 'origin', 'bottles_sold', 'month', 'year')"
   ]
  },
  {
   "cell_type": "markdown",
   "id": "c55b16ec",
   "metadata": {},
   "source": [
    "Based on the above plot, the demand for liquor shows regular fluctuations across months. For example, the higher wholesale sales are observed in May, August, October and December. Wholesale demand usually dipped in February, July, September and November. This could potentially reflect the fact that retailers often stock up before major holidays. \n",
    "\n",
    "However, since different liquor types might imply different demand throughout the year, I would look at each liquor type to verify further. "
   ]
  },
  {
   "cell_type": "markdown",
   "id": "e9175fc7",
   "metadata": {},
   "source": [
    "#### Are fluctuations in demand similar across all liquor types? "
   ]
  },
  {
   "cell_type": "code",
   "execution_count": null,
   "id": "be49ae41",
   "metadata": {},
   "outputs": [],
   "source": [
    "# Plot the number of bottles sold by liquor_type across months and years\n",
    "multivariate_relplot(liquor_df, 'liquor_type', 'bottles_sold', 'month', 'year')"
   ]
  },
  {
   "cell_type": "markdown",
   "id": "532b295a",
   "metadata": {},
   "source": [
    "The above chart showed that the monthly trend in 2018 and 2019 was very similar to each other. However, 2020 witnessed chaotic changes to the wholesale monthly pattern. Therefore, **historical trend and seasonality observed in 2018 and 2019 might not be so relevant to predicting the monthly demand in 2021.** Since future demand is unlikely to mimic patterns of past demand, simplistic time series methods such as moving average or exponential smoothing will not be suitable. Other variables which indicate demand signals have to be considered. \n",
    "\n",
    "Nevertheless, certain monthly trends seem to persist during 2020. **Demand consistently rose sharply in the months of March and December across the years. Therefore, I will proceed with statistical hypothesis testing to confirm whether month should be retained as a relevant feature.** \n",
    "\n",
    "In 2020, the demand for vodka, whiskey and liqueur increased significantly while that of other liquor types remained stable as compared to 2018 and 2019. This indicates **vodka, whiskey and liqueur have become more popular during the pandemic.**  \n"
   ]
  },
  {
   "cell_type": "markdown",
   "id": "97ae791c",
   "metadata": {},
   "source": [
    "#### Does wholesale demand for liquor fluctuate according to days of week? "
   ]
  },
  {
   "cell_type": "code",
   "execution_count": null,
   "id": "5092383d",
   "metadata": {},
   "outputs": [],
   "source": [
    "# Plot the number of bottles sold by liquor_type across day of week and years\n",
    "multivariate_relplot(liquor_df, 'liquor_type', 'bottles_sold', 'day_of_week', 'year')"
   ]
  },
  {
   "cell_type": "markdown",
   "id": "ff3237d1",
   "metadata": {},
   "source": [
    "A sharp rise in bottles sold by the Alcoholic Beverage Division every Tuesday and Friday showed that majority of retail stores often stock up their liquor products twice a week. During the weekends, the division's wholesale operations open on Saturday but close on Sunday. "
   ]
  },
  {
   "cell_type": "markdown",
   "id": "96353277",
   "metadata": {},
   "source": [
    "#### How does month correlate to bottles_sold?"
   ]
  },
  {
   "cell_type": "code",
   "execution_count": null,
   "id": "76b1c061",
   "metadata": {},
   "outputs": [],
   "source": [
    "corr_boxplot_anova(liquor_df, 'month', 'bottles_sold', 'date')"
   ]
  },
  {
   "cell_type": "markdown",
   "id": "2ceae36b",
   "metadata": {},
   "source": [
    "Since p-value < 0.05, there is statistically significant different in bottles_sold across months. Therefore, I will retain month as a relevant feature for my demand forecasting model. Since month is already shown in numerical order, encoding might not be required.  "
   ]
  },
  {
   "cell_type": "markdown",
   "id": "01da0ed7",
   "metadata": {},
   "source": [
    "#### How does day_of_week correlate to bottles_sold?"
   ]
  },
  {
   "cell_type": "code",
   "execution_count": null,
   "id": "63f5275a",
   "metadata": {},
   "outputs": [],
   "source": [
    "corr_boxplot_anova(liquor_df, 'day_of_week', 'bottles_sold', 'date')"
   ]
  },
  {
   "cell_type": "markdown",
   "id": "9f3e2342",
   "metadata": {},
   "source": [
    "Since p-value < 0.05, there is statistically significant different in bottles_sold throughout the week. Therefore, I will retain day_of_week as a relevant feature for my demand forecasting model. Since day_of_week is already shown in numerical order, encoding might not be required.  "
   ]
  },
  {
   "cell_type": "markdown",
   "id": "9453d378",
   "metadata": {},
   "source": [
    "### county"
   ]
  },
  {
   "cell_type": "markdown",
   "id": "55124a15",
   "metadata": {},
   "source": [
    "#### Which are the top 5 counties purchased the most bottles in 2020? "
   ]
  },
  {
   "cell_type": "code",
   "execution_count": null,
   "id": "129d5cbb",
   "metadata": {},
   "outputs": [],
   "source": [
    "# Summarise county's liquor wholesale demand in 2020\n",
    "sales_by_county = pd.pivot_table(data_2020, index = ['county'], values = ['bottles_sold']\n",
    "                                   , aggfunc = np.sum).sort_values('bottles_sold', ascending = False).reset_index()\n",
    "\n",
    "# Calculate percentage of total sales\n",
    "sales_by_county['total_bottles'] = sales_by_county['bottles_sold'].sum()\n",
    "sales_by_county['percentage'] = sales_by_county['bottles_sold'] / sales_by_county['total_bottles'] * 100\n",
    "sales_by_county.head(5)"
   ]
  },
  {
   "cell_type": "markdown",
   "id": "d2e0ad17",
   "metadata": {},
   "source": [
    "#### Which are the top 5 county that purchased the most bottles for each liquor type in 2020? "
   ]
  },
  {
   "cell_type": "code",
   "execution_count": null,
   "id": "9f50dcfe",
   "metadata": {},
   "outputs": [],
   "source": [
    "# Summarise county's liquor wholesale demand in 2020\n",
    "liquor_type_by_county = pd.pivot_table(data_2020, index = ['liquor_type', 'county'], values = ['bottles_sold']\n",
    "                                   , aggfunc = np.sum).sort_values('bottles_sold', ascending = False).reset_index()\n",
    "liquor_type_by_county"
   ]
  },
  {
   "cell_type": "code",
   "execution_count": null,
   "id": "ecdf4dd4",
   "metadata": {},
   "outputs": [],
   "source": [
    "# Find the top 5 counties that spent the most across each liquor type\n",
    "liquor_type_by_county.groupby('liquor_type').head(5).sort_values(['liquor_type', 'bottles_sold'], ascending = False)"
   ]
  },
  {
   "cell_type": "markdown",
   "id": "2dca9e2c",
   "metadata": {},
   "source": [
    "#### Which are the 5 counties that spent the least on liquor in 2020? "
   ]
  },
  {
   "cell_type": "code",
   "execution_count": null,
   "id": "7e43d2bd",
   "metadata": {},
   "outputs": [],
   "source": [
    "sales_by_county.tail(5)"
   ]
  },
  {
   "cell_type": "markdown",
   "id": "e0c72cc9",
   "metadata": {},
   "source": [
    "Contributing to 22.47% of the total wholesale liquor demand in 2020, Polk county topped the chart for spending the most on liquor across all liquor types. Linn, Scott, Johnson and Black Hawk also consistently appeared as the top spender on liquor across all liquor types in 2020.\n",
    "\n",
    "Overall, the top 5 spenders accounted for 49.65% of liquor wholesale in Iowa in 2020 while the remaining 90+ counties contributed to the remain 50%. Therefore, it is evident that demand for liquor differs tremendously across counties. Hence county will be retained as a relevant feature to predict liquor demand."
   ]
  },
  {
   "cell_type": "markdown",
   "id": "b2cfb0b3",
   "metadata": {},
   "source": [
    "#### city"
   ]
  },
  {
   "cell_type": "markdown",
   "id": "7f64e7d9",
   "metadata": {},
   "source": [
    "#### Which are the top 5 cities spent the most on liquor in 2020? "
   ]
  },
  {
   "cell_type": "code",
   "execution_count": null,
   "id": "29ee4ad8",
   "metadata": {},
   "outputs": [],
   "source": [
    "# Summarise city's liquor wholesale demand in 2020\n",
    "sales_by_city = pd.pivot_table(data_2020, index = ['city'], values = ['bottles_sold']\n",
    "                                   , aggfunc = np.sum).sort_values('bottles_sold', ascending = False).reset_index()\n",
    "\n",
    "# Calculate percentage of total sales\n",
    "sales_by_city['total_bottles'] = sales_by_city['bottles_sold'].sum()\n",
    "sales_by_city['percentage'] = sales_by_city['bottles_sold'] / sales_by_city['total_bottles'] * 100\n",
    "sales_by_city.head(5)"
   ]
  },
  {
   "cell_type": "markdown",
   "id": "65d0025c",
   "metadata": {},
   "source": [
    "It is not a surprised that the capital and the most populous city in Iowa, Des Moines, came first when it comes to alcohol demand. The city alone accounted for 10.5% of the entire wholesale liquor demand of the state. The top 5 cities contributed to 31% of the state's liquor demand in terms of number of bottles sold. "
   ]
  },
  {
   "cell_type": "markdown",
   "id": "43cf5617",
   "metadata": {},
   "source": [
    "#### Which are the top 5 cities that spent the most on liquor for each liquor type in 2020? "
   ]
  },
  {
   "cell_type": "code",
   "execution_count": null,
   "id": "d3846032",
   "metadata": {},
   "outputs": [],
   "source": [
    "# Summarise county's liquor wholesale demand in 2020\n",
    "liquor_type_by_city = pd.pivot_table(data_2020, index = ['liquor_type', 'city'], values = ['bottles_sold']\n",
    "                                   , aggfunc = np.sum).sort_values('bottles_sold', ascending = False).reset_index()\n",
    "liquor_type_by_city"
   ]
  },
  {
   "cell_type": "code",
   "execution_count": null,
   "id": "9b65abf3",
   "metadata": {},
   "outputs": [],
   "source": [
    "# Find the top 5 counties that spent the most across each liquor type\n",
    "liquor_type_by_city.groupby('liquor_type').head(5).sort_values(['liquor_type', 'bottles_sold'], ascending = False)"
   ]
  },
  {
   "cell_type": "markdown",
   "id": "dad8fb62",
   "metadata": {},
   "source": [
    "#### Which are the 5 cities that spent the least on liquor in 2020? "
   ]
  },
  {
   "cell_type": "code",
   "execution_count": null,
   "id": "3eaf377f",
   "metadata": {},
   "outputs": [],
   "source": [
    "sales_by_city[sales_by_city['percentage'] < 0.05]"
   ]
  },
  {
   "cell_type": "markdown",
   "id": "3ade737d",
   "metadata": {},
   "source": [
    "Looking at the specific types of liquor, the top 5 cities show a slightly different list from the overall top 5 spenders. This means different cities have varying taste and preference for certain liquor. Therefore, **the demand for liquor does not only depend on the population but also the specific taste and preference of people within those regions.** A potential influencing factor to taste and preference could be culture or demographics. \n",
    "\n",
    "Additionally, a total of 266 out of 443 cities had very little demand for liquor. Each city in this group accounted for zero to 0.05 percent of total liquor demand. A possible theory is that the population in these cities are much smaller than all remaining cities. However, to check this out, I will have to enrich the existing dataset with the city population data. \n",
    "\n",
    "Although different cities indicate varying demand for liquor, city feature has very high cardinality, thus posing potential performance problem for the ML model. Therefore, I will have to consider some feature engineering techniques to retain the information while minimising the cardinality. "
   ]
  },
  {
   "cell_type": "markdown",
   "id": "f8f7c630",
   "metadata": {},
   "source": [
    "#### vendor_name"
   ]
  },
  {
   "cell_type": "markdown",
   "id": "57666bae",
   "metadata": {},
   "source": [
    "#### Which are the 10 best-selling vendors in 2020? "
   ]
  },
  {
   "cell_type": "code",
   "execution_count": null,
   "id": "4260b73b",
   "metadata": {},
   "outputs": [],
   "source": [
    "# Summarise county's liquor wholesale demand in 2020\n",
    "sales_by_vendor = pd.pivot_table(data_2020, index = ['vendor_name'], values = ['bottles_sold']\n",
    "                                   , aggfunc = np.sum).sort_values('bottles_sold', ascending = False)\n",
    "sales_by_vendor = sales_by_vendor.reset_index()\n",
    "\n",
    "# Calculate percentage of total sales\n",
    "sales_by_vendor['total_bottles'] = sales_by_vendor['bottles_sold'].sum()\n",
    "sales_by_vendor['percentage'] = sales_by_vendor['bottles_sold'] / sales_by_vendor['total_bottles'] * 100\n",
    "sales_by_vendor.head(10)"
   ]
  },
  {
   "cell_type": "markdown",
   "id": "f6527258",
   "metadata": {},
   "source": [
    "#### Which are the top 5 vendors for each liquor type in 2020? "
   ]
  },
  {
   "cell_type": "code",
   "execution_count": null,
   "id": "0d1c0ba0",
   "metadata": {},
   "outputs": [],
   "source": [
    "# Summarise county's liquor wholesale demand in 2020\n",
    "liquor_type_by_vendor = pd.pivot_table(data_2020, index = ['liquor_type', 'vendor_name'], values = ['bottles_sold']\n",
    "                                   , aggfunc = np.sum).sort_values('bottles_sold', ascending = False)\n",
    "liquor_type_by_vendor = liquor_type_by_vendor.reset_index()\n",
    "liquor_type_by_vendor"
   ]
  },
  {
   "cell_type": "code",
   "execution_count": null,
   "id": "06592358",
   "metadata": {},
   "outputs": [],
   "source": [
    "# Find the top 5 most popular vendors across each liquor type\n",
    "liquor_type_by_vendor.groupby('liquor_type').head(5).sort_values(['liquor_type', 'bottles_sold'], ascending = False)"
   ]
  },
  {
   "cell_type": "markdown",
   "id": "2f930ebc",
   "metadata": {},
   "source": [
    "The liquor market in Iowa is dominated by giant companies, with the top 10 best-selling vendors accounting for approximately 76.37% of liquor sales in 2020. This means for every 100 liquor bottles sold to liquor retailers in Iowa, 76 bottles come from a small groups of well-established multinational companies that have global operations and possessed a strong product portfolio."
   ]
  },
  {
   "cell_type": "markdown",
   "id": "e1a251a7",
   "metadata": {},
   "source": [
    "#### item_description"
   ]
  },
  {
   "cell_type": "markdown",
   "id": "2b9013a2",
   "metadata": {},
   "source": [
    "#### Which are the 10 best-selling items in 2020? "
   ]
  },
  {
   "cell_type": "code",
   "execution_count": null,
   "id": "8b86290f",
   "metadata": {},
   "outputs": [],
   "source": [
    "# Summarise county's liquor wholesale demand in 2020\n",
    "sales_by_item = pd.pivot_table(data_2020, index = ['item_description'], values = ['bottles_sold']\n",
    "                                   , aggfunc = np.sum).sort_values('bottles_sold', ascending = False)\n",
    "sales_by_item = sales_by_item.reset_index()\n",
    "\n",
    "# Calculate percentage of total bottles sold\n",
    "sales_by_item['total_bottles'] = sales_by_item['bottles_sold'].sum()\n",
    "sales_by_item['percentage'] = sales_by_item['bottles_sold'] / sales_by_item['total_bottles'] * 100\n",
    "sales_by_item.head(10)"
   ]
  },
  {
   "cell_type": "markdown",
   "id": "94f25d81",
   "metadata": {},
   "source": [
    "#### Which are the top 5 items for each liquor type in 2020? "
   ]
  },
  {
   "cell_type": "code",
   "execution_count": null,
   "id": "319d0016",
   "metadata": {},
   "outputs": [],
   "source": [
    "# Summarise liquor wholesale demand by item in 2020\n",
    "liquor_type_by_item = pd.pivot_table(data_2020, index = ['liquor_type', 'item_description'], values = ['bottles_sold']\n",
    "                                   , aggfunc = np.sum).sort_values('bottles_sold', ascending = False).reset_index()\n",
    "liquor_type_by_item"
   ]
  },
  {
   "cell_type": "code",
   "execution_count": null,
   "id": "38238180",
   "metadata": {},
   "outputs": [],
   "source": [
    "# Find the top 5 most popular items across each liquor type\n",
    "liquor_type_by_item.groupby('liquor_type').head(5).sort_values(['liquor_type', 'bottles_sold'], ascending = False)"
   ]
  },
  {
   "cell_type": "markdown",
   "id": "d8c5a642",
   "metadata": {},
   "source": [
    "## Numerical Features - Bivariate & Multivariate Analysis"
   ]
  },
  {
   "cell_type": "code",
   "execution_count": null,
   "id": "67de13d5",
   "metadata": {},
   "outputs": [],
   "source": [
    "# Create a pairplot to gain some initial understanding about any potential correlation between bottles_sold and other numerical features\n",
    "num_feature = ['pack', 'bottle_volume_ml', 'state_bottle_cost', 'state_bottle_retail', 'bottles_sold', 'sale_dollars', 'volume_sold_liters']\n",
    "sns.pairplot(data_2020[num_feature])"
   ]
  },
  {
   "cell_type": "markdown",
   "id": "cee182e5",
   "metadata": {},
   "source": [
    "Below are key observations from the pairplot. \n",
    "1. Bottles_sold and **pack** do not have a linear correlation. More common pack size such as 6, 12, 24 and 48 has a much higher demand than other \"odd\" pack size of 3, 5, 15 and so on. This relationship suggested that I should perform feature engineering to transform pack into a categorical feature. Specifically, I would combine existing pack values into 6, 12, 24, 48 and others, then apply one-hot encoding to these 5 new categorical values. \n",
    "2. Similar to pack, **bottle_volume_ml** do not have a linear correlation. More common bottle size below 2 liters has greater demand than those larger than 2 liters. Therefore, I would also perform feature engineering to treat the bottle_volume_ml into a categorical feature. Specific rules will be examined below since the figure is too small to decipher. \n",
    "3. **state_bottle_cost** and **state_bottle_retail** showed very similar correlation to bottles_sold. The higher the cost or state retail price per bottle, the fewer bottles sold to retailers. Therefore, I would keep one as a feature and discard the other one. Between cost and retail price, I would opt to retain the state_bottle_retail since it would better reflect the quantity that retailers stock up.\n",
    "4. **sales_dollars** and **volume_sold_liters** also requires feature engineering to calculate historical values to avoid look-ahead bias. Specifically, I will experiment with a variety of historical calculations such as N-day cummulative figure, last week figure, last month figure to decide on which historical value has the best predictive power for future demand. \n",
    "\n",
    "The next steps shown below will focus on: \n",
    "- Feature engineering for numerical variables\n",
    "- Conduct hypothesis testing to comfirm predictive power of numerical features"
   ]
  },
  {
   "cell_type": "code",
   "execution_count": null,
   "id": "88590611",
   "metadata": {},
   "outputs": [],
   "source": [
    "# Create the correlation heatmap\n",
    "plt.figure(figsize = (16,8))\n",
    "sns.heatmap(liquor_df[num_feature].corr(), annot = True, cmap = 'YlGnBu')"
   ]
  },
  {
   "cell_type": "markdown",
   "id": "22acbc11",
   "metadata": {},
   "source": [
    "### pack"
   ]
  },
  {
   "cell_type": "markdown",
   "id": "da4624c4",
   "metadata": {},
   "source": [
    "#### Feature Engineering: Pack size of 6, 12, 24, 48 and Others"
   ]
  },
  {
   "cell_type": "code",
   "execution_count": null,
   "id": "0dc3767d",
   "metadata": {},
   "outputs": [],
   "source": [
    "# Create new categorical feature called pack_size\n",
    "liquor_df['pack_size'] = np.where(liquor_df['pack'].isin([6, 12, 24, 48]), liquor_df['pack'], 'Others')"
   ]
  },
  {
   "cell_type": "markdown",
   "id": "176403cd",
   "metadata": {},
   "source": [
    "#### Assess predictive power"
   ]
  },
  {
   "cell_type": "code",
   "execution_count": null,
   "id": "2d2890af",
   "metadata": {},
   "outputs": [],
   "source": [
    "# Assess predictive power of pack_size to bottles_sold with boxplot and ANOVA\n",
    "corr_boxplot_anova(liquor_df, 'pack_size', 'bottles_sold', 'date')"
   ]
  },
  {
   "cell_type": "markdown",
   "id": "21dfa64a",
   "metadata": {},
   "source": [
    "Since p-value is smaller than 0.05, I would reject the null hypothesis and conclude that pack_size has predictive power to bottles_sold, thus retaining it as a relevant feature. "
   ]
  },
  {
   "cell_type": "markdown",
   "id": "b5ca18e6",
   "metadata": {},
   "source": [
    "### bottle_volume_ml"
   ]
  },
  {
   "cell_type": "code",
   "execution_count": null,
   "id": "5e8d50e0",
   "metadata": {},
   "outputs": [],
   "source": [
    "pd.pivot_table(liquor_df, index = 'bottle_volume_ml', values = 'bottles_sold', aggfunc = np.sum)"
   ]
  },
  {
   "cell_type": "markdown",
   "id": "6492e2f9",
   "metadata": {},
   "source": [
    "#### Plot the correlation between bottle_volume_ml and bottles_sold"
   ]
  },
  {
   "cell_type": "code",
   "execution_count": null,
   "id": "e9e5ef2a",
   "metadata": {},
   "outputs": [],
   "source": [
    "# Define a function to plot a scatterplot between one numerical variable against a numerical label across years\n",
    "def multivariate_scatterplot(df, num_var, num_label, year_col):\n",
    "    # Summarise the data into a long-form pivot table\n",
    "    pv_table = pd.pivot_table(df, index = [year_col, num_var], values = num_label, aggfunc = np.sum).reset_index()\n",
    "    # Plot each year's time series in its own facet \n",
    "    plt.figure(figsize = (16, 8))\n",
    "    sns.set_style(\"whitegrid\")\n",
    "    g = sns.scatterplot(data = pv_table, x = num_var, y = num_label, hue = year_col, palette = \"dark\")\n",
    "    return None"
   ]
  },
  {
   "cell_type": "code",
   "execution_count": null,
   "id": "bb8d7a15",
   "metadata": {},
   "outputs": [],
   "source": [
    "multivariate_scatterplot(liquor_df, 'bottle_volume_ml', 'bottles_sold', 'year')"
   ]
  },
  {
   "cell_type": "markdown",
   "id": "264e61c5",
   "metadata": {},
   "source": [
    "Based on the above scatterplot and [typical spirits bottle sizes in US](https://www.diffordsguide.com/en-au/encyclopedia/235/bws/bottle-sizes-the-worlds-mandatory-bottle-sizes), it is observed that the bottles sold for standard bottle sizes are significantly higher than non-standardised size.\n",
    "\n",
    "Among all standard sizes, bottles_sold also greatly varied with 750ml and 1750ml bottles seemed to be the most popular. Hence, similar to pack, I will treat bottle_volume_ml as a categorical feature instead of numerical feature. Specifically, I will group the different bottle_volume_ml into the following categories: \n",
    "- Standard size of 50, 100, 200, 375, 500, 750, 1000, 1750ml: retain the value of bottle_volume_ml\n",
    "- Non-standard size: input as \"Non-standard\""
   ]
  },
  {
   "cell_type": "markdown",
   "id": "202109ab",
   "metadata": {},
   "source": [
    "#### Feature Engineering: bottle_size of standard and non-standard"
   ]
  },
  {
   "cell_type": "code",
   "execution_count": null,
   "id": "37da538a",
   "metadata": {},
   "outputs": [],
   "source": [
    "# Create new categorical feature called pack_size\n",
    "liquor_df['bottle_size'] = np.where(liquor_df['bottle_volume_ml'].isin([50, 100, 200, 375, 750, 1000, 1750])\n",
    "                                    , liquor_df['bottle_volume_ml'], 'Non-standard')"
   ]
  },
  {
   "cell_type": "markdown",
   "id": "2cdfd9ac",
   "metadata": {},
   "source": [
    "#### Assess predictive power"
   ]
  },
  {
   "cell_type": "code",
   "execution_count": null,
   "id": "a26d7319",
   "metadata": {},
   "outputs": [],
   "source": [
    "# Assess predictive power of pack_size to bottles_sold with boxplot and ANOVA\n",
    "corr_boxplot_anova(liquor_df, 'bottle_size', 'bottles_sold', 'date')"
   ]
  },
  {
   "cell_type": "markdown",
   "id": "3643d10b",
   "metadata": {},
   "source": [
    "Since p-value is smaller than 0.05, I would reject the null hypothesis and conclude that bottle_size has predictive power to bottles_sold, thus retaining it as a relevant feature. "
   ]
  },
  {
   "cell_type": "markdown",
   "id": "7853bee3",
   "metadata": {},
   "source": [
    "### bottles_sold"
   ]
  },
  {
   "cell_type": "markdown",
   "id": "f923e202",
   "metadata": {},
   "source": [
    "#### Does bottles_sold show a stationary of non-stationary time series?"
   ]
  },
  {
   "cell_type": "markdown",
   "id": "06a5e778",
   "metadata": {},
   "source": [
    "Below are key points explaining why stationary time series matters in demand forecasting based on the book [Forecasting: Principles and Practice](https://otexts.com/fpp2/stationarity.html), [this article](https://towardsdatascience.com/why-does-stationarity-matter-in-time-series-analysis-e2fb7be74454#:~:text=Stationarity%20is%20an%20important%20concept,is%20independent%20of%20one%20another.) and [statsmodel documentation](https://www.statsmodels.org/stable/examples/notebooks/generated/stationarity_detrending_adf_kpss.html)\n",
    "\n",
    "**Stationary vs non-stationary time series**\n",
    "\n",
    "Stationarity means that the statistical properties of a time series i.e. mean, variance and covariance do not change over time. A stationary time series is one whose properties do not depend on the time at which the series is observed. Thus, time series with trends, or with seasonality, are not stationary — the trend and seasonality will affect the value of the time series at different times. On the other hand, a white noise series is stationary — it does not matter when you observe it, it should look much the same at any point in time.\n",
    "\n",
    "**Implications on demand forecasting**\n",
    "\n",
    "Many statistical models require the series to be stationary to make effective and precise predictions. In general, a non-stationary time series cannot be forecasted using traditional time series models such as AutoRegressive Moving Average (ARMA). If the bottles_sold is non-stationary, I will have 2 options: \n",
    "- Option 1: Apply first differencing or logarithmic transform to make the time series stationary (i.e. remove the trend and seasonality)\n",
    "- Option 2: Choose other time series models that accommodate non-stationary time series such as AutoRegressive Integrated Moving Average (ARIMA). \n",
    "\n",
    "**2 approaches to test for stationarity**\n",
    "- Visual test to observe whether there is any trend or seasonality\n",
    "- Statistical hypothesis tests: also known as the unit root test\n",
    "\n",
    "**Common statistical hypothesis tests for stationarity**\n",
    "Common tests include Augmented Dickey-Fuller (ADF) Test, Phillips-Perron Unit Root Tests and Kwiatkowski, Philips, Schmidt and Shin (KPSS) test. Among them, KPSS is the most popular and  (a.k.a. the unit root test) - useful when it is difficult to tell based on visual test\n",
    "\n",
    "Since I want to assess the true stationarity of the time series, I will be using the visual test, the KPSS test and the ADF test with the level of significance of 0.05. Code snippet is adapted from [statsmodel documentation](https://www.statsmodels.org/stable/examples/notebooks/generated/stationarity_detrending_adf_kpss.html)"
   ]
  },
  {
   "cell_type": "code",
   "execution_count": null,
   "id": "3075a8a6",
   "metadata": {},
   "outputs": [],
   "source": [
    "# Plot the overall bottles_sold for the entire time series\n",
    "daily_bottles_sold = pd.pivot_table(liquor_df, index = 'date', values = ['bottles_sold', 'sale_dollars', 'volume_sold_liters'], aggfunc = np.sum).reset_index()\n",
    "plt.figure(figsize = (16,8))\n",
    "sns.lineplot(data = daily_bottles_sold, x = 'date', y = 'bottles_sold', palette = 'mako')"
   ]
  },
  {
   "cell_type": "code",
   "execution_count": null,
   "id": "f3c2c24e",
   "metadata": {},
   "outputs": [],
   "source": [
    "# Conduct KPSS test to check for stationarity of the time series\n",
    "def kpss_test(timeseries):\n",
    "    print ('Results of KPSS Test:')\n",
    "    kpsstest = kpss(timeseries, regression='c', nlags=\"auto\")\n",
    "    kpss_output = pd.Series(kpsstest[0:3], index=['Test Statistic','p-value','Lags Used'])\n",
    "    for key,value in kpsstest[3].items():\n",
    "        kpss_output['Critical Value (%s)'%key] = value\n",
    "    print (kpss_output)\n",
    "    \n",
    "kpss_test(daily_bottles_sold['bottles_sold'])"
   ]
  },
  {
   "cell_type": "markdown",
   "id": "017837c0",
   "metadata": {},
   "source": [
    "Since p-value of the KPSS test is smaller than the significiance level of 0.05, I will reject the null hypothesis and conclude that bottles_sold exhibits a non-stationary time series. "
   ]
  },
  {
   "cell_type": "code",
   "execution_count": null,
   "id": "f8f1934f",
   "metadata": {},
   "outputs": [],
   "source": [
    "# Conduct ADF test to check for stationarity of the time series\n",
    "def adf_test(timeseries):\n",
    "    print ('Results of Dickey-Fuller Test:')\n",
    "    dftest = adfuller(timeseries, autolag='AIC')\n",
    "    dfoutput = pd.Series(dftest[0:4], index=['Test Statistic','p-value','#Lags Used','Number of Observations Used'])\n",
    "    for key,value in dftest[4].items():\n",
    "       dfoutput['Critical Value (%s)'%key] = value\n",
    "    print (dfoutput)\n",
    "    \n",
    "adf_test(daily_bottles_sold['bottles_sold'])"
   ]
  },
  {
   "cell_type": "markdown",
   "id": "eb8b7ee4",
   "metadata": {},
   "source": [
    "Considering the significance level of 0.05 and the p-value of 0.00, ADF test indicates that the null hypothesis is rejected, which means the series is stationary. \n",
    "\n",
    "Since the KPSS indicates non-stationary while ADF indicates stationary, the series is difference stationary. In other words, as raw values, the series is non-stationary, but I can use differencing transform to make the series stationary. "
   ]
  },
  {
   "cell_type": "markdown",
   "id": "fd88edf5",
   "metadata": {},
   "source": [
    "#### How does differencing transform help to correct non-stationarity (if we want to use ARMA for demand forecasting)? "
   ]
  },
  {
   "cell_type": "code",
   "execution_count": null,
   "id": "fc7fc4d2",
   "metadata": {},
   "outputs": [],
   "source": [
    "# Apply differencing transform\n",
    "daily_bottles_sold['bottles_sold_diff'] = daily_bottles_sold['bottles_sold'] - daily_bottles_sold['bottles_sold'].shift(1)\n",
    "plt.figure(figsize = (16,8))\n",
    "sns.lineplot(data = daily_bottles_sold, x = 'date', y = 'bottles_sold_diff', palette = 'mako')"
   ]
  },
  {
   "cell_type": "code",
   "execution_count": null,
   "id": "d8de0090",
   "metadata": {},
   "outputs": [],
   "source": [
    "# Check for stationarity with KPSS\n",
    "kpss_test(daily_bottles_sold['bottles_sold_diff'].dropna())"
   ]
  },
  {
   "cell_type": "code",
   "execution_count": null,
   "id": "7bae1462",
   "metadata": {},
   "outputs": [],
   "source": [
    "# Check for stationarity with ADF\n",
    "adf_test(daily_bottles_sold['bottles_sold_diff'].dropna())"
   ]
  },
  {
   "cell_type": "markdown",
   "id": "3ab5abb7",
   "metadata": {},
   "source": [
    "Based on the KPSS and ADF test results, applying differencing transform to create a new feature called bottles_sold_diff having strict stationary time series. This new feature is now suitable for predicting demand with ARMA forecasting model. "
   ]
  },
  {
   "cell_type": "markdown",
   "id": "0b2d86ea",
   "metadata": {},
   "source": [
    "#### Does the current bottles_sold value correlate with the previous values from the same time series? If yes, what time lag shows the most significant correlation? "
   ]
  },
  {
   "cell_type": "markdown",
   "id": "21f0656c",
   "metadata": {},
   "source": [
    "I am testing whether the bottles_sold from previous days can be used to foretell what demand for liquor will be today and the days after. If yes, then I would like to know the most optimal lag variable. \n",
    "\n",
    "Two related concepts here is Partial Auto-Correlation Function (PACF) and Auto-Correlation Function (ACF). I will be using pacf and acf functions from statsmodel to conduct the test. "
   ]
  },
  {
   "cell_type": "code",
   "execution_count": null,
   "id": "aff4414d",
   "metadata": {},
   "outputs": [],
   "source": [
    "# Plot the partical auto-correlation for bottles_sold\n",
    "plot_pacf(daily_bottles_sold['bottles_sold'], title = 'Partial Autocorrelation of bottles_sold')\n",
    "plt.xlabel('Number of days in the past')\n",
    "plt.ylabel('Partial autocorrelation coefficient')\n",
    "plt.show()"
   ]
  },
  {
   "cell_type": "code",
   "execution_count": null,
   "id": "5f50ae4f",
   "metadata": {},
   "outputs": [],
   "source": [
    "# Plot the autocorrelation for bottles_sold\n",
    "plot_acf(daily_bottles_sold['bottles_sold'], title='Autocorrelation of total_cust',)\n",
    "plt.xlabel('Number of days in the past')\n",
    "plt.ylabel('Autocorrelation coefficient')\n",
    "plt.show()"
   ]
  },
  {
   "cell_type": "markdown",
   "id": "d73095a7",
   "metadata": {},
   "source": [
    "Since **all potential lags showed weak correlation (approximately 0.4) with bottles_sold at t+0, I would not use any lag variable related to bottles_sold to predict demand.** "
   ]
  },
  {
   "cell_type": "markdown",
   "id": "09c1fd58",
   "metadata": {},
   "source": [
    "### sale_dollars"
   ]
  },
  {
   "cell_type": "markdown",
   "id": "49308ecc",
   "metadata": {},
   "source": [
    "#### Does the current bottles_sold value correlate with the previous sale_dollars values from the same time series? If yes, what time lag shows the most significant correlation? "
   ]
  },
  {
   "cell_type": "markdown",
   "id": "1cdb2214",
   "metadata": {},
   "source": [
    "As mentioned earlier, to avoid look-ahead bias, I can only use the historical values of sale_dollars to predict demand. Therefore, I will check for potential correlation between sales_dollar and bottles_sold with different rolling means and rolling standard deviations. The code is adapted from this [GitHub](https://github.com/julianikulski/bike-sharing/blob/master/bike_sharing_demand.ipynb)."
   ]
  },
  {
   "cell_type": "code",
   "execution_count": null,
   "id": "9630e090",
   "metadata": {},
   "outputs": [],
   "source": [
    "# Define a function to get list for all correlations between a numerical feature and a numerical label with different rolling means\n",
    "\n",
    "def best_window_mean(x, y, max_window):\n",
    "    corr_var_label = []\n",
    "    for i in range(1, max_window):\n",
    "        roll_val = list(x.rolling(i).mean()[i-1:-1])\n",
    "        total_label_ti = list(y[i:])\n",
    "        corr, p_val = pearsonr(total_label_ti, roll_val)\n",
    "        corr_var_label.append(corr)\n",
    "    # get the optimal window size for rolling mean between a feature and total_cust\n",
    "    max_val = np.argmax(corr_var_label)\n",
    "    min_val = np.argmin(corr_var_label)\n",
    "    opt_corr_min = corr_var_label[min_val]\n",
    "    opt_corr_max = corr_var_label[max_val]\n",
    "    \n",
    "    results = {max_val+1: opt_corr_max, min_val+1: opt_corr_min}\n",
    "    \n",
    "    return results"
   ]
  },
  {
   "cell_type": "code",
   "execution_count": null,
   "id": "6ebff411",
   "metadata": {},
   "outputs": [],
   "source": [
    "# Define a function to get list for all correlations between a numerical feature and a numerical label with different rolling standard deviations\n",
    "\n",
    "def best_window_std(x, y, max_window):\n",
    "    corr_var_label = []\n",
    "    for i in range(2, max_window):\n",
    "        roll_val = list(x.rolling(i).std()[i-1:-1])\n",
    "        total_label_ti = list(y[i:])\n",
    "        corr, p_val = pearsonr(total_label_ti, roll_val)\n",
    "        corr_var_label.append(corr)\n",
    "    # get the optimal window size for rolling std between a feature and total_cust\n",
    "    max_val = np.argmax(corr_var_label)\n",
    "    min_val = np.argmin(corr_var_label)\n",
    "    opt_corr_min = corr_var_label[min_val]\n",
    "    opt_corr_max = corr_var_label[max_val]\n",
    "    \n",
    "    results = {max_val+1: opt_corr_max, min_val+1: opt_corr_min}\n",
    "    \n",
    "    return results"
   ]
  },
  {
   "cell_type": "code",
   "execution_count": null,
   "id": "30e15377",
   "metadata": {},
   "outputs": [],
   "source": [
    "# Get the optimal number for rolling mean of sale_dollars\n",
    "print(best_window_mean(daily_bottles_sold['sale_dollars'], daily_bottles_sold['bottles_sold'], 30))"
   ]
  },
  {
   "cell_type": "code",
   "execution_count": null,
   "id": "8157b376",
   "metadata": {},
   "outputs": [],
   "source": [
    "# Get the optimal window for rolling standard deviations of sale_dollars\n",
    "print(best_window_std(daily_bottles_sold['sale_dollars'], daily_bottles_sold['bottles_sold'], 30))"
   ]
  },
  {
   "cell_type": "markdown",
   "id": "84fe28ea",
   "metadata": {},
   "source": [
    "Even **the window showing the maximum correlation coefficient showed very little correlation with bottles_sold. Therefore, I will discard the feature sale_dollars.**"
   ]
  },
  {
   "cell_type": "markdown",
   "id": "24aa17a5",
   "metadata": {},
   "source": [
    "### volume_sold_liters"
   ]
  },
  {
   "cell_type": "markdown",
   "id": "8365077f",
   "metadata": {},
   "source": [
    "Similar to sale_dollars, to avoid look-ahead bias, I can only use the historical values of volume_sold_liters to predict demand. Therefore, I will check for potential correlation between volume_sold_liters and bottles_sold with different rolling means and rolling standard deviations. The code is adapted from this [GitHub](https://github.com/julianikulski/bike-sharing/blob/master/bike_sharing_demand.ipynb)."
   ]
  },
  {
   "cell_type": "code",
   "execution_count": null,
   "id": "3244c20d",
   "metadata": {},
   "outputs": [],
   "source": [
    "# Get the optimal number for rolling mean of volume_sold_liters\n",
    "print(best_window_mean(daily_bottles_sold['volume_sold_liters'], daily_bottles_sold['bottles_sold'], 60))"
   ]
  },
  {
   "cell_type": "code",
   "execution_count": null,
   "id": "67192451",
   "metadata": {},
   "outputs": [],
   "source": [
    "# Get the optimal window for rolling standard deviations of volume_sold_liters\n",
    "print(best_window_std(daily_bottles_sold['volume_sold_liters'], daily_bottles_sold['bottles_sold'], 60))"
   ]
  },
  {
   "cell_type": "markdown",
   "id": "ef2efd8c",
   "metadata": {},
   "source": [
    "**The resulting correlation showed lagged volume_sold_liters has very little predictive power over bottles_sold. Therefore, I will discard the feature volume_sold_liters.**"
   ]
  },
  {
   "cell_type": "markdown",
   "id": "292685fc",
   "metadata": {},
   "source": [
    "**KEY TAKEAWAYS**\n",
    "1. Feature Selection\n",
    "    1. Retain: liquor_type (category_name), origin (category_name), county, item_description, day_of_week, pack_size, bottle_size, month (date), day_of_week (date), city\n",
    "    2. KIV for further feature engineering:\n",
    "        - city: enrich with population to see what could explain the vast difference in demand across cities. \n",
    "    3. Discard: year, date, pack, bottle_volume_ml, sales_dollar, volume_sold_liters\n",
    "2. Stationarity: Bottles_sold time series is non-stationary. Hence ARMA is not suitable for demand forecasting. \n",
    "\n",
    "**NEXT STEPS:**  Build Machine Learning pipelines"
   ]
  },
  {
   "cell_type": "markdown",
   "id": "e49f8f08",
   "metadata": {},
   "source": [
    "**Multicollinearity and regression model**\n",
    "\n",
    "When it comes to the interpretability of the Machine Learning Models, nothing comes close to the simplicity and interpretability of the Linear Regression. But there can be certain issues with the interpretability of the Linear Regression, especially when the assumptions of Linear regression known as Multicollinearity violated.\n",
    "\n",
    "Multicollinearity happens when independent variables in the regression model are highly correlated to each other. It makes it hard for interpretation of model and also creates overfitting problem. It is a common assumption that people test before selecting the variables into regression model."
   ]
  },
  {
   "cell_type": "code",
   "execution_count": null,
   "id": "3b175079",
   "metadata": {},
   "outputs": [],
   "source": [
    "liquor_df"
   ]
  },
  {
   "cell_type": "code",
   "execution_count": null,
   "id": "00f57637",
   "metadata": {},
   "outputs": [],
   "source": []
  }
 ],
 "metadata": {
  "environment": {
   "name": "common-cpu.m65",
   "type": "gcloud",
   "uri": "gcr.io/deeplearning-platform-release/base-cpu:m65"
  },
  "kernelspec": {
   "display_name": "Python 3",
   "language": "python",
   "name": "python3"
  },
  "language_info": {
   "codemirror_mode": {
    "name": "ipython",
    "version": 3
   },
   "file_extension": ".py",
   "mimetype": "text/x-python",
   "name": "python",
   "nbconvert_exporter": "python",
   "pygments_lexer": "ipython3",
   "version": "3.7.10"
  }
 },
 "nbformat": 4,
 "nbformat_minor": 5
}
