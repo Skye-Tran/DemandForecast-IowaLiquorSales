{
 "cells": [
  {
   "cell_type": "markdown",
   "id": "284f2c7b",
   "metadata": {},
   "source": [
    "# Create Training Data from BigQuery Public Dataset"
   ]
  },
  {
   "cell_type": "markdown",
   "id": "97e484b2",
   "metadata": {},
   "source": [
    "The Iowa Liquor Sales data contains every wholesale purchase of liquor in the State of Iowa by retailers for sale to individuals since January 1, 2012. \n",
    "\n",
    "The State of Iowa controls the wholesale distribution of liquor intended for retail sale (off-premises consumption), which means this dataset offers a complete view of retail liquor consumption in the entire state. The dataset contains every wholesale order of liquor by all grocery stores, liquor stores, convenience stores, etc., with details about the store and location, the exact liquor brand and size, and the number of bottles ordered.\n",
    "\n",
    "Since the project aims to develop a ML model for short-term demand forecasting, analysing all historical data from 2012 will take too long and does not reflect recent trends in liquor consumption. Therefore, I would only extract 3 years of historical data from 2018 onwards to create a demand forecasting model. "
   ]
  },
  {
   "cell_type": "markdown",
   "id": "3170d3b6",
   "metadata": {},
   "source": [
    "## Data Sources"
   ]
  },
  {
   "cell_type": "markdown",
   "id": "e846bd20",
   "metadata": {},
   "source": [
    "Iowa Liquor Retail Sales: hosted publicly on [Google BigQuery](https://console.cloud.google.com/marketplace/product/iowa-department-of-commerce/iowa-liquor-sales?project=australiarain&folder=&organizationId=)"
   ]
  },
  {
   "cell_type": "markdown",
   "id": "e8af8c51",
   "metadata": {},
   "source": [
    "## Revision History"
   ]
  },
  {
   "cell_type": "markdown",
   "id": "791438c2",
   "metadata": {},
   "source": [
    "- 04-15-2021: Started the project"
   ]
  },
  {
   "cell_type": "code",
   "execution_count": 1,
   "id": "11ddb347",
   "metadata": {},
   "outputs": [],
   "source": [
    "import pandas as pd\n",
    "from pathlib import Path\n",
    "from datetime import datetime"
   ]
  },
  {
   "cell_type": "markdown",
   "id": "e0c988ea",
   "metadata": {},
   "source": [
    "## File Locations"
   ]
  },
  {
   "cell_type": "code",
   "execution_count": 2,
   "id": "36ec3160",
   "metadata": {},
   "outputs": [],
   "source": [
    "today = datetime.today()\n",
    "raw_data = Path.cwd().parent / \"data\" / \"raw\" / \"all_sales.parquet\""
   ]
  },
  {
   "cell_type": "markdown",
   "id": "b15961fb",
   "metadata": {},
   "source": [
    "## Create Training Dataset from BigQuery"
   ]
  },
  {
   "cell_type": "code",
   "execution_count": 3,
   "id": "816bb644",
   "metadata": {},
   "outputs": [],
   "source": [
    "from google.cloud import bigquery\n",
    "client = bigquery.Client()"
   ]
  },
  {
   "cell_type": "code",
   "execution_count": 4,
   "id": "f2f24f75",
   "metadata": {},
   "outputs": [
    {
     "data": {
      "text/html": [
       "<div>\n",
       "<style scoped>\n",
       "    .dataframe tbody tr th:only-of-type {\n",
       "        vertical-align: middle;\n",
       "    }\n",
       "\n",
       "    .dataframe tbody tr th {\n",
       "        vertical-align: top;\n",
       "    }\n",
       "\n",
       "    .dataframe thead th {\n",
       "        text-align: right;\n",
       "    }\n",
       "</style>\n",
       "<table border=\"1\" class=\"dataframe\">\n",
       "  <thead>\n",
       "    <tr style=\"text-align: right;\">\n",
       "      <th></th>\n",
       "      <th>invoice_and_item_number</th>\n",
       "      <th>date</th>\n",
       "      <th>store_number</th>\n",
       "      <th>store_name</th>\n",
       "      <th>address</th>\n",
       "      <th>city</th>\n",
       "      <th>zip_code</th>\n",
       "      <th>store_location</th>\n",
       "      <th>county_number</th>\n",
       "      <th>county</th>\n",
       "      <th>...</th>\n",
       "      <th>item_number</th>\n",
       "      <th>item_description</th>\n",
       "      <th>pack</th>\n",
       "      <th>bottle_volume_ml</th>\n",
       "      <th>state_bottle_cost</th>\n",
       "      <th>state_bottle_retail</th>\n",
       "      <th>bottles_sold</th>\n",
       "      <th>sale_dollars</th>\n",
       "      <th>volume_sold_liters</th>\n",
       "      <th>volume_sold_gallons</th>\n",
       "    </tr>\n",
       "  </thead>\n",
       "  <tbody>\n",
       "    <tr>\n",
       "      <th>0</th>\n",
       "      <td>INV-09550400072</td>\n",
       "      <td>2018-01-02</td>\n",
       "      <td>2549</td>\n",
       "      <td>Hy-Vee Food Store / Indianola</td>\n",
       "      <td>910 N Jefferson</td>\n",
       "      <td>Indianola</td>\n",
       "      <td>50125</td>\n",
       "      <td>None</td>\n",
       "      <td>91</td>\n",
       "      <td>WARREN</td>\n",
       "      <td>...</td>\n",
       "      <td>18350</td>\n",
       "      <td>Four Roses Single Barrel</td>\n",
       "      <td>6</td>\n",
       "      <td>750</td>\n",
       "      <td>20.17</td>\n",
       "      <td>30.26</td>\n",
       "      <td>6</td>\n",
       "      <td>181.56</td>\n",
       "      <td>4.5</td>\n",
       "      <td>1.19</td>\n",
       "    </tr>\n",
       "    <tr>\n",
       "      <th>1</th>\n",
       "      <td>INV-09567800094</td>\n",
       "      <td>2018-01-02</td>\n",
       "      <td>2505</td>\n",
       "      <td>Hy-Vee Wine and Spirits / Boone</td>\n",
       "      <td>1111  8TH ST</td>\n",
       "      <td>Boone</td>\n",
       "      <td>50036</td>\n",
       "      <td>POINT (-93.876159 42.06479800000001)</td>\n",
       "      <td>8</td>\n",
       "      <td>BOONE</td>\n",
       "      <td>...</td>\n",
       "      <td>43352</td>\n",
       "      <td>Captain Morgan Pineapple</td>\n",
       "      <td>12</td>\n",
       "      <td>750</td>\n",
       "      <td>8.26</td>\n",
       "      <td>12.39</td>\n",
       "      <td>2</td>\n",
       "      <td>24.78</td>\n",
       "      <td>1.5</td>\n",
       "      <td>0.40</td>\n",
       "    </tr>\n",
       "    <tr>\n",
       "      <th>2</th>\n",
       "      <td>INV-09561800137</td>\n",
       "      <td>2018-01-02</td>\n",
       "      <td>2564</td>\n",
       "      <td>Hy-Vee Food Store #4 / Waterloo</td>\n",
       "      <td>4000 University</td>\n",
       "      <td>Waterloo</td>\n",
       "      <td>50701</td>\n",
       "      <td>POINT (-92.403843 42.505197)</td>\n",
       "      <td>7</td>\n",
       "      <td>BLACK HAWK</td>\n",
       "      <td>...</td>\n",
       "      <td>35418</td>\n",
       "      <td>Burnett's Vodka 80 Prf</td>\n",
       "      <td>6</td>\n",
       "      <td>1750</td>\n",
       "      <td>9.48</td>\n",
       "      <td>14.22</td>\n",
       "      <td>6</td>\n",
       "      <td>85.32</td>\n",
       "      <td>10.5</td>\n",
       "      <td>2.77</td>\n",
       "    </tr>\n",
       "    <tr>\n",
       "      <th>3</th>\n",
       "      <td>INV-09554500039</td>\n",
       "      <td>2018-01-02</td>\n",
       "      <td>4844</td>\n",
       "      <td>Iowa City Fast Break</td>\n",
       "      <td>2580, Naples Ave</td>\n",
       "      <td>Iowa City</td>\n",
       "      <td>52240</td>\n",
       "      <td>POINT (-91.571064 41.632792)</td>\n",
       "      <td>52</td>\n",
       "      <td>JOHNSON</td>\n",
       "      <td>...</td>\n",
       "      <td>37993</td>\n",
       "      <td>Smirnoff 80prf</td>\n",
       "      <td>48</td>\n",
       "      <td>200</td>\n",
       "      <td>2.54</td>\n",
       "      <td>3.81</td>\n",
       "      <td>48</td>\n",
       "      <td>182.88</td>\n",
       "      <td>9.6</td>\n",
       "      <td>2.54</td>\n",
       "    </tr>\n",
       "    <tr>\n",
       "      <th>4</th>\n",
       "      <td>INV-09558700018</td>\n",
       "      <td>2018-01-02</td>\n",
       "      <td>3691</td>\n",
       "      <td>Target Store T-1791 / Urbandale</td>\n",
       "      <td>11148 Plum Dr</td>\n",
       "      <td>Urbandale</td>\n",
       "      <td>50322</td>\n",
       "      <td>POINT (-93.769776 41.646972)</td>\n",
       "      <td>77</td>\n",
       "      <td>POLK</td>\n",
       "      <td>...</td>\n",
       "      <td>72913</td>\n",
       "      <td>Captain Morgan Loconut</td>\n",
       "      <td>6</td>\n",
       "      <td>750</td>\n",
       "      <td>9.06</td>\n",
       "      <td>13.59</td>\n",
       "      <td>6</td>\n",
       "      <td>81.00</td>\n",
       "      <td>4.5</td>\n",
       "      <td>1.19</td>\n",
       "    </tr>\n",
       "  </tbody>\n",
       "</table>\n",
       "<p>5 rows × 24 columns</p>\n",
       "</div>"
      ],
      "text/plain": [
       "  invoice_and_item_number        date store_number  \\\n",
       "0         INV-09550400072  2018-01-02         2549   \n",
       "1         INV-09567800094  2018-01-02         2505   \n",
       "2         INV-09561800137  2018-01-02         2564   \n",
       "3         INV-09554500039  2018-01-02         4844   \n",
       "4         INV-09558700018  2018-01-02         3691   \n",
       "\n",
       "                        store_name           address       city zip_code  \\\n",
       "0    Hy-Vee Food Store / Indianola   910 N Jefferson  Indianola    50125   \n",
       "1  Hy-Vee Wine and Spirits / Boone      1111  8TH ST      Boone    50036   \n",
       "2  Hy-Vee Food Store #4 / Waterloo   4000 University   Waterloo    50701   \n",
       "3             Iowa City Fast Break  2580, Naples Ave  Iowa City    52240   \n",
       "4  Target Store T-1791 / Urbandale     11148 Plum Dr  Urbandale    50322   \n",
       "\n",
       "                         store_location county_number      county  ...  \\\n",
       "0                                  None            91      WARREN  ...   \n",
       "1  POINT (-93.876159 42.06479800000001)             8       BOONE  ...   \n",
       "2          POINT (-92.403843 42.505197)             7  BLACK HAWK  ...   \n",
       "3          POINT (-91.571064 41.632792)            52     JOHNSON  ...   \n",
       "4          POINT (-93.769776 41.646972)            77        POLK  ...   \n",
       "\n",
       "  item_number          item_description pack bottle_volume_ml  \\\n",
       "0       18350  Four Roses Single Barrel    6              750   \n",
       "1       43352  Captain Morgan Pineapple   12              750   \n",
       "2       35418    Burnett's Vodka 80 Prf    6             1750   \n",
       "3       37993            Smirnoff 80prf   48              200   \n",
       "4       72913    Captain Morgan Loconut    6              750   \n",
       "\n",
       "  state_bottle_cost state_bottle_retail  bottles_sold  sale_dollars  \\\n",
       "0             20.17               30.26             6        181.56   \n",
       "1              8.26               12.39             2         24.78   \n",
       "2              9.48               14.22             6         85.32   \n",
       "3              2.54                3.81            48        182.88   \n",
       "4              9.06               13.59             6         81.00   \n",
       "\n",
       "   volume_sold_liters  volume_sold_gallons  \n",
       "0                 4.5                 1.19  \n",
       "1                 1.5                 0.40  \n",
       "2                10.5                 2.77  \n",
       "3                 9.6                 2.54  \n",
       "4                 4.5                 1.19  \n",
       "\n",
       "[5 rows x 24 columns]"
      ]
     },
     "execution_count": 4,
     "metadata": {},
     "output_type": "execute_result"
    }
   ],
   "source": [
    "# Run a query to retrieve the data from 2018 which is currently hosted  on BigQuery public dataset\n",
    "sql = \"\"\"\n",
    "SELECT\n",
    "  *\n",
    "FROM\n",
    "  `bigquery-public-data.iowa_liquor_sales.sales`\n",
    "WHERE\n",
    "  date >= \"2018-01-01\"\n",
    "ORDER BY\n",
    "  date;\n",
    "  \"\"\"\n",
    "liquor_df = client.query(sql).to_dataframe()\n",
    "liquor_df.head()"
   ]
  },
  {
   "cell_type": "code",
   "execution_count": 5,
   "id": "a91c1641",
   "metadata": {},
   "outputs": [
    {
     "data": {
      "text/plain": [
       "invoice_and_item_number     object\n",
       "date                        object\n",
       "store_number                object\n",
       "store_name                  object\n",
       "address                     object\n",
       "city                        object\n",
       "zip_code                    object\n",
       "store_location              object\n",
       "county_number               object\n",
       "county                      object\n",
       "category                    object\n",
       "category_name               object\n",
       "vendor_number               object\n",
       "vendor_name                 object\n",
       "item_number                 object\n",
       "item_description            object\n",
       "pack                         int64\n",
       "bottle_volume_ml             int64\n",
       "state_bottle_cost          float64\n",
       "state_bottle_retail        float64\n",
       "bottles_sold                 int64\n",
       "sale_dollars               float64\n",
       "volume_sold_liters         float64\n",
       "volume_sold_gallons        float64\n",
       "dtype: object"
      ]
     },
     "execution_count": 5,
     "metadata": {},
     "output_type": "execute_result"
    }
   ],
   "source": [
    "liquor_df.dtypes"
   ]
  },
  {
   "cell_type": "markdown",
   "id": "85f92c2c",
   "metadata": {},
   "source": [
    "## Data Manipulation"
   ]
  },
  {
   "cell_type": "code",
   "execution_count": 6,
   "id": "9725ba15",
   "metadata": {},
   "outputs": [],
   "source": [
    "# Convert date column from string to DateTime\n",
    "liquor_df['date'] = pd.to_datetime(liquor_df['date'])"
   ]
  },
  {
   "cell_type": "markdown",
   "id": "a1c4259b",
   "metadata": {},
   "source": [
    "## Save Output Files into Raw Data Directory"
   ]
  },
  {
   "cell_type": "code",
   "execution_count": 7,
   "id": "7dfdb9bc",
   "metadata": {},
   "outputs": [],
   "source": [
    "# Save the dataframes into pickle (.pkl) file for faster read/ write and retaining information about data types\n",
    "liquor_df.to_parquet(raw_data)"
   ]
  }
 ],
 "metadata": {
  "environment": {
   "name": "common-cpu.m65",
   "type": "gcloud",
   "uri": "gcr.io/deeplearning-platform-release/base-cpu:m65"
  },
  "kernelspec": {
   "display_name": "Python 3",
   "language": "python",
   "name": "python3"
  },
  "language_info": {
   "codemirror_mode": {
    "name": "ipython",
    "version": 3
   },
   "file_extension": ".py",
   "mimetype": "text/x-python",
   "name": "python",
   "nbconvert_exporter": "python",
   "pygments_lexer": "ipython3",
   "version": "3.7.10"
  }
 },
 "nbformat": 4,
 "nbformat_minor": 5
}
