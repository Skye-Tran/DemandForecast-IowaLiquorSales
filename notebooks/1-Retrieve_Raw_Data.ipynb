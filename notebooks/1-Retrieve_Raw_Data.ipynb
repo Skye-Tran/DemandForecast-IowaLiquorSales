{
 "cells": [
  {
   "cell_type": "markdown",
   "id": "e89a27e3",
   "metadata": {},
   "source": [
    "# Create Training Data from BigQuery Public Dataset"
   ]
  },
  {
   "cell_type": "markdown",
   "id": "47f159c3",
   "metadata": {},
   "source": [
    "The Iowa Liquor Sales data contains every wholesale purchase of liquor in the State of Iowa by retailers for sale to individuals since January 1, 2012. \n",
    "\n",
    "The State of Iowa controls the wholesale distribution of liquor intended for retail sale (off-premises consumption), which means this dataset offers a complete view of retail liquor consumption in the entire state. The dataset contains every wholesale order of liquor by all grocery stores, liquor stores, convenience stores, etc., with details about the store and location, the exact liquor brand and size, and the number of bottles ordered.\n",
    "\n",
    "Since the project aims to develop a ML model for short-term demand forecasting, analysing all historical data from 2012 will take too long and does not reflect recent trends in liquor consumption. Therefore, I would only extract 3 years of historical data from 2018 onwards to create a demand forecasting model. "
   ]
  },
  {
   "cell_type": "markdown",
   "id": "83128cd2",
   "metadata": {},
   "source": [
    "## Data Sources"
   ]
  },
  {
   "cell_type": "markdown",
   "id": "89462c1c",
   "metadata": {},
   "source": [
    "Iowa Liquor Retail Sales: hosted publicly on [Google BigQuery](https://console.cloud.google.com/marketplace/product/iowa-department-of-commerce/iowa-liquor-sales?project=australiarain&folder=&organizationId=)"
   ]
  },
  {
   "cell_type": "markdown",
   "id": "aebe7542",
   "metadata": {},
   "source": [
    "## Revision History"
   ]
  },
  {
   "cell_type": "markdown",
   "id": "e9037bf5",
   "metadata": {},
   "source": [
    "- 04-15-2021: Started the project"
   ]
  },
  {
   "cell_type": "code",
   "execution_count": 1,
   "id": "d08c3e5e",
   "metadata": {},
   "outputs": [],
   "source": [
    "import pandas as pd\n",
    "from pathlib import Path\n",
    "from datetime import datetime"
   ]
  },
  {
   "cell_type": "markdown",
   "id": "3b573481",
   "metadata": {},
   "source": [
    "## File Locations"
   ]
  },
  {
   "cell_type": "code",
   "execution_count": 2,
   "id": "cbdfe1a0",
   "metadata": {},
   "outputs": [],
   "source": [
    "today = datetime.today()\n",
    "raw_data = Path.cwd().parent / \"data\" / \"raw\" / \"all_sales.pkl\""
   ]
  },
  {
   "cell_type": "markdown",
   "id": "3aef0af9",
   "metadata": {},
   "source": [
    "## Create Training Dataset from BigQuery"
   ]
  },
  {
   "cell_type": "code",
   "execution_count": 3,
   "id": "0cf8a4e6",
   "metadata": {},
   "outputs": [],
   "source": [
    "from google.cloud import bigquery\n",
    "client = bigquery.Client()"
   ]
  },
  {
   "cell_type": "code",
   "execution_count": 4,
   "id": "708bc4b6",
   "metadata": {},
   "outputs": [
    {
     "data": {
      "text/html": [
       "<div>\n",
       "<style scoped>\n",
       "    .dataframe tbody tr th:only-of-type {\n",
       "        vertical-align: middle;\n",
       "    }\n",
       "\n",
       "    .dataframe tbody tr th {\n",
       "        vertical-align: top;\n",
       "    }\n",
       "\n",
       "    .dataframe thead th {\n",
       "        text-align: right;\n",
       "    }\n",
       "</style>\n",
       "<table border=\"1\" class=\"dataframe\">\n",
       "  <thead>\n",
       "    <tr style=\"text-align: right;\">\n",
       "      <th></th>\n",
       "      <th>invoice_and_item_number</th>\n",
       "      <th>date</th>\n",
       "      <th>store_number</th>\n",
       "      <th>store_name</th>\n",
       "      <th>address</th>\n",
       "      <th>city</th>\n",
       "      <th>zip_code</th>\n",
       "      <th>store_location</th>\n",
       "      <th>county_number</th>\n",
       "      <th>county</th>\n",
       "      <th>...</th>\n",
       "      <th>item_number</th>\n",
       "      <th>item_description</th>\n",
       "      <th>pack</th>\n",
       "      <th>bottle_volume_ml</th>\n",
       "      <th>state_bottle_cost</th>\n",
       "      <th>state_bottle_retail</th>\n",
       "      <th>bottles_sold</th>\n",
       "      <th>sale_dollars</th>\n",
       "      <th>volume_sold_liters</th>\n",
       "      <th>volume_sold_gallons</th>\n",
       "    </tr>\n",
       "  </thead>\n",
       "  <tbody>\n",
       "    <tr>\n",
       "      <th>0</th>\n",
       "      <td>INV-09565300015</td>\n",
       "      <td>2018-01-02</td>\n",
       "      <td>5151</td>\n",
       "      <td>IDA Liquor</td>\n",
       "      <td>500, Hwy 175</td>\n",
       "      <td>Ida Grove</td>\n",
       "      <td>51445</td>\n",
       "      <td>None</td>\n",
       "      <td>47</td>\n",
       "      <td>IDA</td>\n",
       "      <td>...</td>\n",
       "      <td>89786</td>\n",
       "      <td>Sauza Gold</td>\n",
       "      <td>12</td>\n",
       "      <td>750</td>\n",
       "      <td>9.50</td>\n",
       "      <td>14.25</td>\n",
       "      <td>4</td>\n",
       "      <td>56.72</td>\n",
       "      <td>3.00</td>\n",
       "      <td>0.79</td>\n",
       "    </tr>\n",
       "    <tr>\n",
       "      <th>1</th>\n",
       "      <td>INV-09556000113</td>\n",
       "      <td>2018-01-02</td>\n",
       "      <td>2524</td>\n",
       "      <td>Hy-Vee Food Store / Dubuque</td>\n",
       "      <td>3500 Dodge St</td>\n",
       "      <td>Dubuque</td>\n",
       "      <td>52001</td>\n",
       "      <td>None</td>\n",
       "      <td>31</td>\n",
       "      <td>DUBUQUE</td>\n",
       "      <td>...</td>\n",
       "      <td>76042</td>\n",
       "      <td>Midnight Moon Blackberry</td>\n",
       "      <td>6</td>\n",
       "      <td>750</td>\n",
       "      <td>11.50</td>\n",
       "      <td>17.25</td>\n",
       "      <td>2</td>\n",
       "      <td>34.50</td>\n",
       "      <td>1.50</td>\n",
       "      <td>0.40</td>\n",
       "    </tr>\n",
       "    <tr>\n",
       "      <th>2</th>\n",
       "      <td>INV-09555600025</td>\n",
       "      <td>2018-01-02</td>\n",
       "      <td>3632</td>\n",
       "      <td>Wal-Mart 2004 / Dubuque</td>\n",
       "      <td>4200 Dodge St</td>\n",
       "      <td>Dubuque</td>\n",
       "      <td>52003</td>\n",
       "      <td>POINT (-90.736955 42.489041)</td>\n",
       "      <td>31</td>\n",
       "      <td>DUBUQUE</td>\n",
       "      <td>...</td>\n",
       "      <td>42716</td>\n",
       "      <td>Malibu Coconut Rum</td>\n",
       "      <td>12</td>\n",
       "      <td>750</td>\n",
       "      <td>7.49</td>\n",
       "      <td>11.24</td>\n",
       "      <td>12</td>\n",
       "      <td>134.88</td>\n",
       "      <td>9.00</td>\n",
       "      <td>2.38</td>\n",
       "    </tr>\n",
       "    <tr>\n",
       "      <th>3</th>\n",
       "      <td>INV-09556500061</td>\n",
       "      <td>2018-01-02</td>\n",
       "      <td>2465</td>\n",
       "      <td>Sid's Beverage Shop</td>\n",
       "      <td>2727 Dodge St</td>\n",
       "      <td>Dubuque</td>\n",
       "      <td>52003</td>\n",
       "      <td>POINT (-90.705328 42.491862)</td>\n",
       "      <td>31</td>\n",
       "      <td>DUBUQUE</td>\n",
       "      <td>...</td>\n",
       "      <td>43299</td>\n",
       "      <td>Captain Morgan Coconut</td>\n",
       "      <td>12</td>\n",
       "      <td>750</td>\n",
       "      <td>8.26</td>\n",
       "      <td>12.39</td>\n",
       "      <td>1</td>\n",
       "      <td>12.39</td>\n",
       "      <td>0.75</td>\n",
       "      <td>0.20</td>\n",
       "    </tr>\n",
       "    <tr>\n",
       "      <th>4</th>\n",
       "      <td>INV-09560000001</td>\n",
       "      <td>2018-01-02</td>\n",
       "      <td>2587</td>\n",
       "      <td>Hy-Vee Food Store / Johnston</td>\n",
       "      <td>5750 Merle Hay Road</td>\n",
       "      <td>Johnston</td>\n",
       "      <td>50131</td>\n",
       "      <td>POINT (-93.697731 41.665172)</td>\n",
       "      <td>77</td>\n",
       "      <td>POLK</td>\n",
       "      <td>...</td>\n",
       "      <td>4367</td>\n",
       "      <td>Balvenie Caribbean Cask 14yr</td>\n",
       "      <td>6</td>\n",
       "      <td>750</td>\n",
       "      <td>39.96</td>\n",
       "      <td>59.94</td>\n",
       "      <td>2</td>\n",
       "      <td>119.88</td>\n",
       "      <td>1.50</td>\n",
       "      <td>0.40</td>\n",
       "    </tr>\n",
       "  </tbody>\n",
       "</table>\n",
       "<p>5 rows × 24 columns</p>\n",
       "</div>"
      ],
      "text/plain": [
       "  invoice_and_item_number        date store_number  \\\n",
       "0         INV-09565300015  2018-01-02         5151   \n",
       "1         INV-09556000113  2018-01-02         2524   \n",
       "2         INV-09555600025  2018-01-02         3632   \n",
       "3         INV-09556500061  2018-01-02         2465   \n",
       "4         INV-09560000001  2018-01-02         2587   \n",
       "\n",
       "                     store_name              address       city zip_code  \\\n",
       "0                    IDA Liquor         500, Hwy 175  Ida Grove    51445   \n",
       "1   Hy-Vee Food Store / Dubuque        3500 Dodge St    Dubuque    52001   \n",
       "2       Wal-Mart 2004 / Dubuque        4200 Dodge St    Dubuque    52003   \n",
       "3           Sid's Beverage Shop        2727 Dodge St    Dubuque    52003   \n",
       "4  Hy-Vee Food Store / Johnston  5750 Merle Hay Road   Johnston    50131   \n",
       "\n",
       "                 store_location county_number   county  ... item_number  \\\n",
       "0                          None            47      IDA  ...       89786   \n",
       "1                          None            31  DUBUQUE  ...       76042   \n",
       "2  POINT (-90.736955 42.489041)            31  DUBUQUE  ...       42716   \n",
       "3  POINT (-90.705328 42.491862)            31  DUBUQUE  ...       43299   \n",
       "4  POINT (-93.697731 41.665172)            77     POLK  ...        4367   \n",
       "\n",
       "               item_description pack bottle_volume_ml state_bottle_cost  \\\n",
       "0                    Sauza Gold   12              750              9.50   \n",
       "1      Midnight Moon Blackberry    6              750             11.50   \n",
       "2            Malibu Coconut Rum   12              750              7.49   \n",
       "3        Captain Morgan Coconut   12              750              8.26   \n",
       "4  Balvenie Caribbean Cask 14yr    6              750             39.96   \n",
       "\n",
       "  state_bottle_retail  bottles_sold  sale_dollars  volume_sold_liters  \\\n",
       "0               14.25             4         56.72                3.00   \n",
       "1               17.25             2         34.50                1.50   \n",
       "2               11.24            12        134.88                9.00   \n",
       "3               12.39             1         12.39                0.75   \n",
       "4               59.94             2        119.88                1.50   \n",
       "\n",
       "   volume_sold_gallons  \n",
       "0                 0.79  \n",
       "1                 0.40  \n",
       "2                 2.38  \n",
       "3                 0.20  \n",
       "4                 0.40  \n",
       "\n",
       "[5 rows x 24 columns]"
      ]
     },
     "execution_count": 4,
     "metadata": {},
     "output_type": "execute_result"
    }
   ],
   "source": [
    "# Run a query to retrieve the summarised data from BigQuery public dataset\n",
    "sql = \"\"\"\n",
    "SELECT\n",
    "  *\n",
    "FROM\n",
    "  `bigquery-public-data.iowa_liquor_sales.sales`\n",
    "WHERE\n",
    "  date >= \"2018-01-01\"\n",
    "ORDER BY\n",
    "  date;\n",
    "  \"\"\"\n",
    "liquor_df = client.query(sql).to_dataframe()\n",
    "liquor_df.head()"
   ]
  },
  {
   "cell_type": "code",
   "execution_count": 5,
   "id": "df7f4ca7",
   "metadata": {},
   "outputs": [
    {
     "data": {
      "text/plain": [
       "invoice_and_item_number     object\n",
       "date                        object\n",
       "store_number                object\n",
       "store_name                  object\n",
       "address                     object\n",
       "city                        object\n",
       "zip_code                    object\n",
       "store_location              object\n",
       "county_number               object\n",
       "county                      object\n",
       "category                    object\n",
       "category_name               object\n",
       "vendor_number               object\n",
       "vendor_name                 object\n",
       "item_number                 object\n",
       "item_description            object\n",
       "pack                         int64\n",
       "bottle_volume_ml             int64\n",
       "state_bottle_cost          float64\n",
       "state_bottle_retail        float64\n",
       "bottles_sold                 int64\n",
       "sale_dollars               float64\n",
       "volume_sold_liters         float64\n",
       "volume_sold_gallons        float64\n",
       "dtype: object"
      ]
     },
     "execution_count": 5,
     "metadata": {},
     "output_type": "execute_result"
    }
   ],
   "source": [
    "liquor_df.dtypes"
   ]
  },
  {
   "cell_type": "markdown",
   "id": "b1247c4f",
   "metadata": {},
   "source": [
    "## Data Manipulation"
   ]
  },
  {
   "cell_type": "code",
   "execution_count": 6,
   "id": "86b2d7d6",
   "metadata": {},
   "outputs": [],
   "source": [
    "# Convert date column from string to DateTime\n",
    "liquor_df['date'] = pd.to_datetime(liquor_df['date'])"
   ]
  },
  {
   "cell_type": "markdown",
   "id": "5c6d7a4c",
   "metadata": {},
   "source": [
    "## Save Output Files into Raw Data Directory"
   ]
  },
  {
   "cell_type": "code",
   "execution_count": 7,
   "id": "cc040665",
   "metadata": {},
   "outputs": [],
   "source": [
    "# Save the dataframes into pickle (.pkl) file for faster read/ write and retaining information about data types\n",
    "liquor_df.to_pickle(raw_data)"
   ]
  }
 ],
 "metadata": {
  "environment": {
   "name": "common-cu110.m65",
   "type": "gcloud",
   "uri": "gcr.io/deeplearning-platform-release/base-cu110:m65"
  },
  "kernelspec": {
   "display_name": "Python 3",
   "language": "python",
   "name": "python3"
  },
  "language_info": {
   "codemirror_mode": {
    "name": "ipython",
    "version": 3
   },
   "file_extension": ".py",
   "mimetype": "text/x-python",
   "name": "python",
   "nbconvert_exporter": "python",
   "pygments_lexer": "ipython3",
   "version": "3.7.10"
  }
 },
 "nbformat": 4,
 "nbformat_minor": 5
}
